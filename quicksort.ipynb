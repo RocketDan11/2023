{
 "cells": [
  {
   "cell_type": "code",
   "execution_count": 1,
   "id": "86f3f573-d469-4470-99d9-a3d313ba1a8f",
   "metadata": {},
   "outputs": [
    {
     "name": "stdout",
     "output_type": "stream",
     "text": [
      "Sorted Array in Ascending Order:\n",
      "[-2, 1, 1, 4, 7, 9, 10]\n"
     ]
    }
   ],
   "source": [
    "#!/usr/bin/python\n",
    "\n",
    "# this is from\n",
    "# [https://www.geeksforgeeks.org/python-program-for-quicksort/]\n",
    "# ah ha!  I should have read the whole article .. this is the Pythonic\n",
    "# approach\n",
    "\n",
    "# Approach 2: Quicksort using list comprehension\n",
    "\n",
    "def quicksort(arr):\n",
    "\tif len(arr) <= 1:\n",
    "\t\treturn arr\n",
    "\telse:\n",
    "\t\tpivot = arr[0]\n",
    "\t\tleft = [x for x in arr[1:] if x < pivot]\n",
    "\t\tright = [x for x in arr[1:] if x >= pivot]\n",
    "\t\treturn quicksort(left) + [pivot] + quicksort(right)\n",
    "\n",
    "# Example usage\n",
    "arr = [1, 7, 4, 1, 10, 9, -2]\n",
    "sorted_arr = quicksort(arr)\n",
    "print(\"Sorted Array in Ascending Order:\")\n",
    "print(sorted_arr)\n"
   ]
  },
  {
   "cell_type": "code",
   "execution_count": null,
   "id": "be361953-f3bd-4fd0-9271-1ed3b7af1ef9",
   "metadata": {},
   "outputs": [],
   "source": []
  }
 ],
 "metadata": {
  "kernelspec": {
   "display_name": "Python 3 (ipykernel)",
   "language": "python",
   "name": "python3"
  },
  "language_info": {
   "codemirror_mode": {
    "name": "ipython",
    "version": 3
   },
   "file_extension": ".py",
   "mimetype": "text/x-python",
   "name": "python",
   "nbconvert_exporter": "python",
   "pygments_lexer": "ipython3",
   "version": "3.10.6"
  }
 },
 "nbformat": 4,
 "nbformat_minor": 5
}
