{
 "cells": [
  {
   "attachments": {
    "image.png": {
     "image/png": "[encoded data removed]"
    }
   },
   "cell_type": "markdown",
   "metadata": {},
   "source": [
    "# matrix- matrix multiply\n",
    "exploring different methods of conducting a matrix matrix multiplication. Remember that the resultant matric C is defined as\n",
    "![image.png](attachment:image.png)\n",
    "\n",
    "- if A is an m by n matrix and B is an x by y matrix, the operation can only be completed if n = x, then the resultant matrix will have dimensions of m by y.\n"
   ]
  },
  {
   "cell_type": "code",
   "execution_count": 37,
   "metadata": {},
   "outputs": [],
   "source": [
    "import timeit"
   ]
  },
  {
   "cell_type": "code",
   "execution_count": 38,
   "metadata": {},
   "outputs": [],
   "source": [
    "execute_time = []"
   ]
  },
  {
   "cell_type": "code",
   "execution_count": 39,
   "metadata": {},
   "outputs": [],
   "source": [
    "# the classic ijk loop. O(n^3) complexity"
   ]
  },
  {
   "cell_type": "code",
   "execution_count": 40,
   "metadata": {},
   "outputs": [],
   "source": [
    "def matrix_multiply_ijk(matrix1, matrix2):\n",
    "    result = []\n",
    "    for i in range(len(matrix1)):\n",
    "        row = []\n",
    "        for j in range(len(matrix2[0])):\n",
    "            element = 0\n",
    "            for k in range(len(matrix2)):\n",
    "                element += matrix1[i][k] * matrix2[k][j]\n",
    "            row.append(element)\n",
    "        result.append(row)\n",
    "    return result"
   ]
  },
  {
   "cell_type": "code",
   "execution_count": 41,
   "metadata": {},
   "outputs": [],
   "source": [
    "setup = '''\n",
    "SIZE = 10\n",
    "from __main__ import matrix_multiply_ijk\n",
    "#generate 2 random matrices to test\n",
    "#note these will we square matrices, \n",
    "import numpy as np\n",
    "matrix1 = np.random.rand(SIZE,SIZE)\n",
    "matrix2 = np.random.rand(SIZE,SIZE)\n",
    "'''\n",
    "statement = 'matrix_multiply_ijk(matrix1, matrix2)'\n",
    "#change 'number=1' to choose how many times to run test\n",
    "execute_time.append(timeit.timeit(statement, setup=setup, number=1))"
   ]
  },
  {
   "cell_type": "code",
   "execution_count": 42,
   "metadata": {},
   "outputs": [
    {
     "data": {
      "text/plain": [
       "[0.001069046000338858]"
      ]
     },
     "execution_count": 42,
     "metadata": {},
     "output_type": "execute_result"
    }
   ],
   "source": [
    "execute_time"
   ]
  },
  {
   "cell_type": "code",
   "execution_count": 43,
   "metadata": {},
   "outputs": [],
   "source": [
    "exec_time = []"
   ]
  },
  {
   "cell_type": "code",
   "execution_count": 44,
   "metadata": {},
   "outputs": [
    {
     "data": {
      "text/plain": [
       "[0.0014726320000590931]"
      ]
     },
     "execution_count": 44,
     "metadata": {},
     "output_type": "execute_result"
    }
   ],
   "source": [
    "#remember to put exec_time = [] in a different cell when running tests.\n",
    "#run exec_time = [] before first trial.\n",
    "\n",
    "import numpy as np\n",
    "import timeit\n",
    "SIZE = 256 \n",
    "\n",
    "matrix1 = np.random.rand(SIZE, SIZE)\n",
    "matrix2 = np.random.rand(SIZE, SIZE)\n",
    "\n",
    "def matrix_multiply():\n",
    "    return np.matmul(matrix1, matrix2)\n",
    "\n",
    "# Time the execution of the function\n",
    "exec_time.append(timeit.timeit(matrix_multiply, number=1))\n",
    "exec_time"
   ]
  },
  {
   "cell_type": "markdown",
   "metadata": {},
   "source": [
    "set comprehension method, why is this so inefficient?\n"
   ]
  },
  {
   "cell_type": "code",
   "execution_count": 45,
   "metadata": {},
   "outputs": [
    {
     "name": "stdout",
     "output_type": "stream",
     "text": [
      "Execution time: 1.3527514200000041 seconds\n"
     ]
    }
   ],
   "source": [
    "import timeit\n",
    "\n",
    "def test_matrix(n, m):\n",
    "    matrix = []\n",
    "    for i in range(n):\n",
    "        row = []\n",
    "        for j in range(m):\n",
    "            #element can be changed here.\n",
    "            element = 1  \n",
    "            row.append(element)\n",
    "        matrix.append(row)\n",
    "    return matrix\n",
    "\n",
    "\n",
    "X = test_matrix(256,256)\n",
    "Y = test_matrix(256,256)\n",
    "\n",
    "def matrix_multiply():\n",
    "    return [[sum(a*b for a,b in zip(X_row,Y_col)) for Y_col in zip(*Y)] for X_row in X]\n",
    "\n",
    "# Time the execution of the function\n",
    "execution_time = timeit.timeit(matrix_multiply, number=1)\n",
    "\n",
    "print(f\"Execution time: {execution_time} seconds\")"
   ]
  },
  {
   "cell_type": "code",
   "execution_count": null,
   "metadata": {},
   "outputs": [],
   "source": []
  },
  {
   "cell_type": "code",
   "execution_count": null,
   "metadata": {},
   "outputs": [],
   "source": []
  }
 ],
 "metadata": {
  "kernelspec": {
   "display_name": "Python 3",
   "language": "python",
   "name": "python3"
  },
  "language_info": {
   "codemirror_mode": {
    "name": "ipython",
    "version": 3
   },
   "file_extension": ".py",
   "mimetype": "text/x-python",
   "name": "python",
   "nbconvert_exporter": "python",
   "pygments_lexer": "ipython3",
   "version": "3.9.13"
  }
 },
 "nbformat": 4,
 "nbformat_minor": 5
}
