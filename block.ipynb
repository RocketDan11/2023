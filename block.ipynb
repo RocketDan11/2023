{
 "cells": [
  {
   "cell_type": "code",
   "execution_count": 1,
   "id": "41f28108",
   "metadata": {},
   "outputs": [],
   "source": [
    "#SET UP FOR NOTEBOOK. RUN THIS CELL FIRST\n",
    "import numpy as np\n",
    "\n",
    "\n",
    "def block(matrix):\n",
    "    rows, cols = matrix.shape\n",
    "    #base case, return itself\n",
    "    if rows <= 2 and cols <= 2:\n",
    "        return [matrix]\n",
    "\n",
    "     # Split the matrix into four quadrants\n",
    "    mid_row = rows // 2\n",
    "    mid_col = cols // 2\n",
    "    \n",
    "    quadrant1 = matrix[:mid_row, :mid_col]\n",
    "    quadrant2 = matrix[:mid_row, mid_col:]\n",
    "    quadrant3 = matrix[mid_row:, :mid_col]\n",
    "    quadrant4 = matrix[mid_row:, mid_col:]\n",
    "    \n",
    "    #recursively call block on each quadrant\n",
    "    #store value in submatrix list.\n",
    "    submatrix = []\n",
    "    submatrix.extend(block(quadrant1))\n",
    "    submatrix.extend(block(quadrant2))\n",
    "    submatrix.extend(block(quadrant3))\n",
    "    submatrix.extend(block(quadrant4))\n",
    "   \n",
    "\n",
    "    return submatrix"
   ]
  },
  {
   "cell_type": "code",
   "execution_count": null,
   "id": "b313e295",
   "metadata": {},
   "outputs": [],
   "source": []
  },
  {
   "cell_type": "code",
   "execution_count": 2,
   "id": "8782e002",
   "metadata": {},
   "outputs": [
    {
     "name": "stdout",
     "output_type": "stream",
     "text": [
      "(3, 3)\n",
      "(3,)\n",
      "(1,)\n"
     ]
    }
   ],
   "source": [
    "import numpy as np\n",
    "A = np.array([[1,2,3],\n",
    "            [4,5,6],\n",
    "            [7,8,9]])\n",
    "#shape returns a tuple w the dimensions of the array\n",
    "print(A.shape)\n",
    "\n",
    "B = np.array([1,2,3])\n",
    "print(B.shape)\n",
    "\n",
    "C = np.array([1])\n",
    "print(C.shape)"
   ]
  },
  {
   "cell_type": "code",
   "execution_count": 3,
   "id": "6803b57d",
   "metadata": {},
   "outputs": [
    {
     "name": "stdout",
     "output_type": "stream",
     "text": [
      "[array([[1, 2],\n",
      "       [3, 4]])]\n"
     ]
    }
   ],
   "source": [
    "D = np.array([[1,2],\n",
    "            [3,4]])\n",
    "            \n",
    "def block(matrix):\n",
    "    rows, cols = matrix.shape\n",
    "    #base case, return itself\n",
    "    if rows <= 2 and cols <= 2:\n",
    "        return [matrix]\n",
    "\n",
    "    \n",
    "    \n",
    "print(block(D))\n",
    "    "
   ]
  },
  {
   "cell_type": "code",
   "execution_count": 4,
   "id": "cab5899c",
   "metadata": {},
   "outputs": [
    {
     "name": "stdout",
     "output_type": "stream",
     "text": [
      "[array([[1, 2],\n",
      "       [3, 4]])]\n"
     ]
    }
   ],
   "source": [
    "def block(matrix):\n",
    "    rows, cols = matrix.shape\n",
    "    #base case, return itself\n",
    "    if rows <= 2 and cols <= 2:\n",
    "        return [matrix]\n",
    "    \n",
    "    # Split the matrix into four quadrants\n",
    "    mid_row = rows // 2\n",
    "    mid_col = cols // 2\n",
    "\n",
    "\n",
    "print(block(D))   "
   ]
  },
  {
   "cell_type": "code",
   "execution_count": 5,
   "id": "7edc72cc",
   "metadata": {},
   "outputs": [
    {
     "name": "stdout",
     "output_type": "stream",
     "text": [
      "4\n",
      "None\n"
     ]
    }
   ],
   "source": [
    "\n",
    "C  = np.arange(1, 65).reshape(8, 8)\n",
    "\n",
    "def block(matrix):\n",
    "    rows, cols = matrix.shape\n",
    "    #base case, return itself\n",
    "    if rows <= 2 and cols <= 2:\n",
    "        return [matrix]\n",
    "\n",
    "     # Split the matrix into four quadrants\n",
    "    mid_row = rows // 2\n",
    "    mid_col = cols // 2\n",
    "    print(mid_col)\n",
    "\n",
    "\n",
    "print(block(C))"
   ]
  },
  {
   "cell_type": "markdown",
   "id": "52a41a79",
   "metadata": {},
   "source": [
    "```:mid_row``` specifies a range from the beginning of the matrix up to (but not including)\n",
    "the mid_row index. This extracts the rows from index 0 to mid_row - 1\n",
    "\n",
    " By combining these two slicing operations, ```matrix[:mid_row, :mid_col]``` extracts the submatrix consisting of the rows from index 0 to mid_row - 1 and the columns from index 0 to mid_col - 1. This submatrix represents the top-left quadrant of the original matrix."
   ]
  },
  {
   "cell_type": "code",
   "execution_count": 6,
   "id": "2136e17c",
   "metadata": {},
   "outputs": [
    {
     "name": "stdout",
     "output_type": "stream",
     "text": [
      "[[ 1  2  3  4]\n",
      " [ 9 10 11 12]\n",
      " [17 18 19 20]\n",
      " [25 26 27 28]]\n",
      "[[ 5  6  7  8]\n",
      " [13 14 15 16]\n",
      " [21 22 23 24]\n",
      " [29 30 31 32]]\n",
      "[[33 34 35 36]\n",
      " [41 42 43 44]\n",
      " [49 50 51 52]\n",
      " [57 58 59 60]]\n",
      "[[37 38 39 40]\n",
      " [45 46 47 48]\n",
      " [53 54 55 56]\n",
      " [61 62 63 64]]\n",
      "None\n"
     ]
    }
   ],
   "source": [
    "\n",
    "C  = np.arange(1, 65).reshape(8, 8)\n",
    "\n",
    "def block(matrix):\n",
    "    rows, cols = matrix.shape\n",
    "    #base case, return itself\n",
    "    if rows <= 2 and cols <= 2:\n",
    "        return [matrix]\n",
    "\n",
    "     # Split the matrix into four quadrants\n",
    "    mid_row = rows // 2\n",
    "    mid_col = cols // 2\n",
    "    \n",
    "    quadrant1 = matrix[:mid_row, :mid_col]\n",
    "    quadrant2 = matrix[:mid_row, mid_col:]\n",
    "    quadrant3 = matrix[mid_row:, :mid_col]\n",
    "    quadrant4 = matrix[mid_row:, mid_col:]\n",
    "    print(quadrant1)\n",
    "    print(quadrant2)\n",
    "    print(quadrant3)\n",
    "    print(quadrant4)\n",
    "\n",
    "print(block(C))"
   ]
  },
  {
   "cell_type": "code",
   "execution_count": 3,
   "id": "9a602ccc",
   "metadata": {},
   "outputs": [],
   "source": [
    "import numpy as np\n",
    "C  = np.arange(1, 65).reshape(8, 8)\n",
    "\n",
    "def block(matrix):\n",
    "    rows, cols = matrix.shape\n",
    "     # Base case, return itself\n",
    "    if rows <= 2 and cols <= 2:\n",
    "        return np.array([matrix])\n",
    "\n",
    "     # Split the matrix into four quadrants\n",
    "    mid_row = rows // 2\n",
    "    mid_col = cols // 2\n",
    "    \n",
    "    quadrant1 = matrix[:mid_row, :mid_col]\n",
    "    quadrant2 = matrix[:mid_row, mid_col:]\n",
    "    quadrant3 = matrix[mid_row:, :mid_col]\n",
    "    quadrant4 = matrix[mid_row:, mid_col:]\n",
    "    print(quadrant1)\n",
    "    print(quadrant2)\n",
    "    print(quadrant3)\n",
    "    print(quadrant4)\n",
    "\n",
    "    submatrix = []\n",
    "\n",
    "    submatrix.extend(block(quadrant1))\n",
    "\n",
    "    return submatrix\n"
   ]
  },
  {
   "cell_type": "code",
   "execution_count": 6,
   "id": "ac9de67f",
   "metadata": {},
   "outputs": [
    {
     "name": "stdout",
     "output_type": "stream",
     "text": [
      "[array([[ 1,  2],\n",
      "       [ 9, 10]]), array([[ 3,  4],\n",
      "       [11, 12]]), array([[17, 18],\n",
      "       [25, 26]]), array([[19, 20],\n",
      "       [27, 28]]), array([[ 5,  6],\n",
      "       [13, 14]]), array([[ 7,  8],\n",
      "       [15, 16]]), array([[21, 22],\n",
      "       [29, 30]]), array([[23, 24],\n",
      "       [31, 32]]), array([[33, 34],\n",
      "       [41, 42]]), array([[35, 36],\n",
      "       [43, 44]]), array([[49, 50],\n",
      "       [57, 58]]), array([[51, 52],\n",
      "       [59, 60]]), array([[37, 38],\n",
      "       [45, 46]]), array([[39, 40],\n",
      "       [47, 48]]), array([[53, 54],\n",
      "       [61, 62]]), array([[55, 56],\n",
      "       [63, 64]])]\n"
     ]
    }
   ],
   "source": [
    "#generate test array\n",
    "X  = np.arange(1, 65).reshape(8, 8)\n",
    "           \n",
    "def block(matrix):\n",
    "    rows, cols = matrix.shape\n",
    "    #base case, return itself\n",
    "    if rows <= 2 and cols <= 2:\n",
    "        return [matrix]\n",
    "\n",
    "     # Split the matrix into four quadrants\n",
    "    mid_row = rows // 2\n",
    "    mid_col = cols // 2\n",
    "    \n",
    "    quadrant1 = matrix[:mid_row, :mid_col]\n",
    "    quadrant2 = matrix[:mid_row, mid_col:]\n",
    "    quadrant3 = matrix[mid_row:, :mid_col]\n",
    "    quadrant4 = matrix[mid_row:, mid_col:]\n",
    "    \n",
    "    #recursively call block on each quadrant\n",
    "    #store value in submatrix list.\n",
    "    submatrix = []\n",
    "    submatrix.extend(block(quadrant1))\n",
    "    submatrix.extend(block(quadrant2))\n",
    "    submatrix.extend(block(quadrant3))\n",
    "    submatrix.extend(block(quadrant4))\n",
    "   \n",
    "\n",
    "    return submatrix\n",
    "\n",
    "\n",
    "print(block(X))\n"
   ]
  },
  {
   "cell_type": "code",
   "execution_count": 7,
   "id": "7edc76e4",
   "metadata": {},
   "outputs": [
    {
     "name": "stdout",
     "output_type": "stream",
     "text": [
      "[array([[1, 2],\n",
      "       [5, 6]]), array([[3, 4],\n",
      "       [7, 8]]), array([[ 9, 10],\n",
      "       [13, 14]]), array([[11, 12],\n",
      "       [15, 16]])]\n",
      "[[1 2]\n",
      " [5 6]]\n",
      "[[3 4]\n",
      " [7 8]]\n",
      "[[ 4  6]\n",
      " [12 14]]\n"
     ]
    }
   ],
   "source": [
    "A  = np.arange(1, 17).reshape(4, 4)\n",
    "print(block(Z))\n",
    "\n",
    "q1, q2, q3, q4 = block(A)\n",
    "print(q1)\n",
    "print(q2)\n",
    "print(q1 + q2)\n"
   ]
  },
  {
   "cell_type": "code",
   "execution_count": null,
   "id": "ae618609",
   "metadata": {},
   "outputs": [],
   "source": []
  },
  {
   "cell_type": "code",
   "execution_count": null,
   "id": "b0a45e50",
   "metadata": {},
   "outputs": [],
   "source": []
  },
  {
   "cell_type": "code",
   "execution_count": null,
   "id": "7c0f967d-34ec-4dfc-a70d-7a594c3d0c7e",
   "metadata": {},
   "outputs": [],
   "source": []
  },
  {
   "cell_type": "code",
   "execution_count": null,
   "id": "59913919-4a7a-4810-ba4b-ee78ec1d436e",
   "metadata": {},
   "outputs": [],
   "source": []
  },
  {
   "cell_type": "code",
   "execution_count": null,
   "id": "01ca6f5a-04d7-461a-807a-44404710e619",
   "metadata": {},
   "outputs": [],
   "source": []
  }
 ],
 "metadata": {
  "kernelspec": {
   "display_name": "Python 3 (ipykernel)",
   "language": "python",
   "name": "python3"
  },
  "language_info": {
   "codemirror_mode": {
    "name": "ipython",
    "version": 3
   },
   "file_extension": ".py",
   "mimetype": "text/x-python",
   "name": "python",
   "nbconvert_exporter": "python",
   "pygments_lexer": "ipython3",
   "version": "3.10.6"
  },
  "vscode": {
   "interpreter": {
    "hash": "31f2aee4e71d21fbe5cf8b01ff0e069b9275f58929596ceb00d14d90e3e16cd6"
   }
  }
 },
 "nbformat": 4,
 "nbformat_minor": 5
}
