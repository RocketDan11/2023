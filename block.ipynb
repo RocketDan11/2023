{
 "cells": [
  {
   "cell_type": "code",
   "execution_count": null,
   "id": "41f28108",
   "metadata": {},
   "outputs": [],
   "source": [
    "#SET UP FOR NOTEBOOK. RUN THIS CELL FIRST\n",
    "import numpy as np\n",
    "\n",
    "\n",
    "def block(matrix):\n",
    "    rows, cols = matrix.shape\n",
    "    #base case, return itself\n",
    "    if rows <= 2 and cols <= 2:\n",
    "        return [matrix]\n",
    "\n",
    "     # Split the matrix into four quadrants\n",
    "    mid_row = rows // 2\n",
    "    mid_col = cols // 2\n",
    "    \n",
    "    quadrant1 = matrix[:mid_row, :mid_col]\n",
    "    quadrant2 = matrix[:mid_row, mid_col:]\n",
    "    quadrant3 = matrix[mid_row:, :mid_col]\n",
    "    quadrant4 = matrix[mid_row:, mid_col:]\n",
    "    \n",
    "    #recursively call block on each quadrant\n",
    "    #store value in submatrix list.\n",
    "    submatrix = []\n",
    "    submatrix.extend(block(quadrant1))\n",
    "    submatrix.extend(block(quadrant2))\n",
    "    submatrix.extend(block(quadrant3))\n",
    "    submatrix.extend(block(quadrant4))\n",
    "   \n",
    "\n",
    "    return submatrix"
   ]
  },
  {
   "cell_type": "code",
   "execution_count": null,
   "id": "b313e295",
   "metadata": {},
   "outputs": [],
   "source": []
  },
  {
   "cell_type": "code",
   "execution_count": 2,
   "id": "8782e002",
   "metadata": {},
   "outputs": [
    {
     "name": "stdout",
     "output_type": "stream",
     "text": [
      "(3, 3)\n",
      "(3,)\n",
      "(1,)\n"
     ]
    }
   ],
   "source": [
    "import numpy as np\n",
    "A = np.array([[1,2,3],\n",
    "            [4,5,6],\n",
    "            [7,8,9]])\n",
    "#shape returns a tuple w the dimensions of the array\n",
    "print(A.shape)\n",
    "\n",
    "B = np.array([1,2,3])\n",
    "print(B.shape)\n",
    "\n",
    "C = np.array([1])\n",
    "print(C.shape)"
   ]
  },
  {
   "cell_type": "code",
   "execution_count": 3,
   "id": "6803b57d",
   "metadata": {},
   "outputs": [
    {
     "name": "stdout",
     "output_type": "stream",
     "text": [
      "[array([[1, 2],\n",
      "       [3, 4]])]\n"
     ]
    }
   ],
   "source": [
    "D = np.array([[1,2],\n",
    "            [3,4]])\n",
    "            \n",
    "def block(matrix):\n",
    "    rows, cols = matrix.shape\n",
    "    #base case, return itself\n",
    "    if rows <= 2 and cols <= 2:\n",
    "        return [matrix]\n",
    "\n",
    "    \n",
    "    \n",
    "print(block(D))\n",
    "    "
   ]
  },
  {
   "cell_type": "code",
   "execution_count": 4,
   "id": "cab5899c",
   "metadata": {},
   "outputs": [
    {
     "name": "stdout",
     "output_type": "stream",
     "text": [
      "[array([[1, 2],\n",
      "       [3, 4]])]\n"
     ]
    }
   ],
   "source": [
    "def block(matrix):\n",
    "    rows, cols = matrix.shape\n",
    "    #base case, return itself\n",
    "    if rows <= 2 and cols <= 2:\n",
    "        return [matrix]\n",
    "    \n",
    "    # Split the matrix into four quadrants\n",
    "    mid_row = rows // 2\n",
    "    mid_col = cols // 2\n",
    "\n",
    "\n",
    "print(block(D))   "
   ]
  },
  {
   "cell_type": "code",
   "execution_count": 5,
   "id": "7edc72cc",
   "metadata": {},
   "outputs": [
    {
     "name": "stdout",
     "output_type": "stream",
     "text": [
      "4\n",
      "None\n"
     ]
    }
   ],
   "source": [
    "\n",
    "C  = np.arange(1, 65).reshape(8, 8)\n",
    "\n",
    "def block(matrix):\n",
    "    rows, cols = matrix.shape\n",
    "    #base case, return itself\n",
    "    if rows <= 2 and cols <= 2:\n",
    "        return [matrix]\n",
    "\n",
    "     # Split the matrix into four quadrants\n",
    "    mid_row = rows // 2\n",
    "    mid_col = cols // 2\n",
    "    print(mid_col)\n",
    "\n",
    "\n",
    "print(block(C))"
   ]
  },
  {
   "cell_type": "markdown",
   "id": "52a41a79",
   "metadata": {},
   "source": [
    "```:mid_row``` specifies a range from the beginning of the matrix up to (but not including)\n",
    "the mid_row index. This extracts the rows from index 0 to mid_row - 1\n",
    "\n",
    " By combining these two slicing operations, ```matrix[:mid_row, :mid_col]``` extracts the submatrix consisting of the rows from index 0 to mid_row - 1 and the columns from index 0 to mid_col - 1. This submatrix represents the top-left quadrant of the original matrix."
   ]
  },
  {
   "cell_type": "code",
   "execution_count": 6,
   "id": "2136e17c",
   "metadata": {},
   "outputs": [
    {
     "name": "stdout",
     "output_type": "stream",
     "text": [
      "[[ 1  2  3  4]\n",
      " [ 9 10 11 12]\n",
      " [17 18 19 20]\n",
      " [25 26 27 28]]\n",
      "[[ 5  6  7  8]\n",
      " [13 14 15 16]\n",
      " [21 22 23 24]\n",
      " [29 30 31 32]]\n",
      "[[33 34 35 36]\n",
      " [41 42 43 44]\n",
      " [49 50 51 52]\n",
      " [57 58 59 60]]\n",
      "[[37 38 39 40]\n",
      " [45 46 47 48]\n",
      " [53 54 55 56]\n",
      " [61 62 63 64]]\n",
      "None\n"
     ]
    }
   ],
   "source": [
    "\n",
    "C  = np.arange(1, 65).reshape(8, 8)\n",
    "\n",
    "def block(matrix):\n",
    "    rows, cols = matrix.shape\n",
    "    #base case, return itself\n",
    "    if rows <= 2 and cols <= 2:\n",
    "        return [matrix]\n",
    "\n",
    "     # Split the matrix into four quadrants\n",
    "    mid_row = rows // 2\n",
    "    mid_col = cols // 2\n",
    "    \n",
    "    quadrant1 = matrix[:mid_row, :mid_col]\n",
    "    quadrant2 = matrix[:mid_row, mid_col:]\n",
    "    quadrant3 = matrix[mid_row:, :mid_col]\n",
    "    quadrant4 = matrix[mid_row:, mid_col:]\n",
    "    print(quadrant1)\n",
    "    print(quadrant2)\n",
    "    print(quadrant3)\n",
    "    print(quadrant4)\n",
    "\n",
    "print(block(C))"
   ]
  },
  {
   "cell_type": "code",
   "execution_count": 3,
   "id": "9a602ccc",
   "metadata": {},
   "outputs": [],
   "source": [
    "import numpy as np\n",
    "C  = np.arange(1, 65).reshape(8, 8)\n",
    "\n",
    "def block(matrix):\n",
    "    rows, cols = matrix.shape\n",
    "     # Base case, return itself\n",
    "    if rows <= 2 and cols <= 2:\n",
    "        return np.array([matrix])\n",
    "\n",
    "     # Split the matrix into four quadrants\n",
    "    mid_row = rows // 2\n",
    "    mid_col = cols // 2\n",
    "    \n",
    "    quadrant1 = matrix[:mid_row, :mid_col]\n",
    "    quadrant2 = matrix[:mid_row, mid_col:]\n",
    "    quadrant3 = matrix[mid_row:, :mid_col]\n",
    "    quadrant4 = matrix[mid_row:, mid_col:]\n",
    "    print(quadrant1)\n",
    "    print(quadrant2)\n",
    "    print(quadrant3)\n",
    "    print(quadrant4)\n",
    "\n",
    "    submatrix = []\n",
    "\n",
    "    submatrix.extend(block(quadrant1))\n",
    "\n",
    "    return submatrix\n"
   ]
  },
  {
   "cell_type": "code",
   "execution_count": 4,
   "id": "ac9de67f",
   "metadata": {},
   "outputs": [
    {
     "name": "stdout",
     "output_type": "stream",
     "text": [
      "[array([[ 1,  2],\n",
      "       [ 9, 10]]), array([[ 3,  4],\n",
      "       [11, 12]]), array([[17, 18],\n",
      "       [25, 26]]), array([[19, 20],\n",
      "       [27, 28]]), array([[ 5,  6],\n",
      "       [13, 14]]), array([[ 7,  8],\n",
      "       [15, 16]]), array([[21, 22],\n",
      "       [29, 30]]), array([[23, 24],\n",
      "       [31, 32]]), array([[33, 34],\n",
      "       [41, 42]]), array([[35, 36],\n",
      "       [43, 44]]), array([[49, 50],\n",
      "       [57, 58]]), array([[51, 52],\n",
      "       [59, 60]]), array([[37, 38],\n",
      "       [45, 46]]), array([[39, 40],\n",
      "       [47, 48]]), array([[53, 54],\n",
      "       [61, 62]]), array([[55, 56],\n",
      "       [63, 64]])]\n"
     ]
    }
   ],
   "source": [
    "import numpy as np \n",
    "#generate test array\n",
    "X  = np.arange(1, 65).reshape(8, 8)\n",
    "           \n",
    "def block(matrix):\n",
    "    rows, cols = matrix.shape\n",
    "    #base case, return itself\n",
    "    if rows <= 2 and cols <= 2:\n",
    "        return [matrix]\n",
    "\n",
    "     # Split the matrix into four quadrants\n",
    "    mid_row = rows // 2\n",
    "    mid_col = cols // 2\n",
    "    \n",
    "    quadrant1 = matrix[:mid_row, :mid_col]\n",
    "    quadrant2 = matrix[:mid_row, mid_col:]\n",
    "    quadrant3 = matrix[mid_row:, :mid_col]\n",
    "    quadrant4 = matrix[mid_row:, mid_col:]\n",
    "    \n",
    "    #recursively call block on each quadrant\n",
    "    #store value in submatrix list.\n",
    "    submatrix = []\n",
    "    submatrix.extend(block(quadrant1))\n",
    "    submatrix.extend(block(quadrant2))\n",
    "    submatrix.extend(block(quadrant3))\n",
    "    submatrix.extend(block(quadrant4))\n",
    "   \n",
    "\n",
    "    return submatrix\n",
    "\n",
    "\n",
    "print(block(X))\n"
   ]
  },
  {
   "cell_type": "code",
   "execution_count": 11,
   "id": "7edc76e4",
   "metadata": {},
   "outputs": [
    {
     "name": "stdout",
     "output_type": "stream",
     "text": [
      "[array([[1, 2],\n",
      "       [5, 6]]), array([[3, 4],\n",
      "       [7, 8]]), array([[ 9, 10],\n",
      "       [13, 14]]), array([[11, 12],\n",
      "       [15, 16]])]\n",
      "[[1 2]\n",
      " [5 6]]\n",
      "[[3 4]\n",
      " [7 8]]\n",
      "[[ 4  6]\n",
      " [12 14]]\n"
     ]
    }
   ],
   "source": [
    "A  = np.arange(1, 17).reshape(4, 4)\n",
    "print(block(A))\n",
    "\n",
    "q1, q2, q3, q4 = block(A)\n",
    "print(q1)\n",
    "print(q2)\n",
    "print(q1 + q2)\n"
   ]
  },
  {
   "cell_type": "code",
   "execution_count": 9,
   "id": "ae618609",
   "metadata": {},
   "outputs": [
    {
     "name": "stdout",
     "output_type": "stream",
     "text": [
      "(4, 4)\n"
     ]
    }
   ],
   "source": [
    "import numpy as np\n",
    "\n",
    "def block_n(matrix):\n",
    "    dimensions = matrix.shape\n",
    "    return dimensions\n",
    "print(block_n(A))"
   ]
  },
  {
   "cell_type": "markdown",
   "id": "4d35854e",
   "metadata": {},
   "source": [
    "but what if i have n dimension???\n"
   ]
  },
  {
   "cell_type": "code",
   "execution_count": 2,
   "id": "b0a45e50",
   "metadata": {},
   "outputs": [
    {
     "name": "stdout",
     "output_type": "stream",
     "text": [
      "[[[ 1  2  3  4]\n",
      "  [ 5  6  7  8]\n",
      "  [ 9 10 11 12]\n",
      "  [13 14 15 16]]\n",
      "\n",
      " [[17 18 19 20]\n",
      "  [21 22 23 24]\n",
      "  [25 26 27 28]\n",
      "  [29 30 31 32]]\n",
      "\n",
      " [[33 34 35 36]\n",
      "  [37 38 39 40]\n",
      "  [41 42 43 44]\n",
      "  [45 46 47 48]]\n",
      "\n",
      " [[49 50 51 52]\n",
      "  [53 54 55 56]\n",
      "  [57 58 59 60]\n",
      "  [61 62 63 64]]]\n"
     ]
    }
   ],
   "source": [
    "#n dimension test case\n",
    "n = (4, 4, 4)\n",
    "\n",
    "def test_case(dimensions):\n",
    "    val = np.arange(1, np.prod(n) + 1)\n",
    "    matrix = np.reshape(val, dimensions)\n",
    "    return matrix\n",
    "\n",
    "testme = test_case(n)\n",
    "print(testme)"
   ]
  },
  {
   "cell_type": "code",
   "execution_count": 1,
   "id": "7c0f967d-34ec-4dfc-a70d-7a594c3d0c7e",
   "metadata": {},
   "outputs": [],
   "source": [
    "import numpy as np\n",
    "\n",
    "def block(matrix):\n",
    "    dimensions = matrix.shape\n",
    "    ndims = len(dimensions)\n",
    "    \n",
    "    # Base case: return itself\n",
    "    if all(dim <= 2 for dim in dimensions):\n",
    "        return [matrix]\n",
    "\n",
    "    # Split the matrix along each dimension\n",
    "    submatrices = []\n",
    "    for i in range(ndims):\n",
    "        mid = dimensions[i] // 2\n",
    "        slices = [slice(None)] * ndims  # create a list of slices for indexing\n",
    "        slices[i] = slice(None, mid)  # slice for the first half along current dimension\n",
    "        submatrix1 = matrix[tuple(slices)]\n",
    "        slices[i] = slice(mid, None)  # slice for the second half along current dimension\n",
    "        submatrix2 = matrix[tuple(slices)]\n",
    "        submatrices.extend(block(submatrix1))  # recursively call block on each submatrix\n",
    "        submatrices.extend(block(submatrix2))\n",
    "\n",
    "    return submatrices\n",
    "\n"
   ]
  },
  {
   "cell_type": "code",
   "execution_count": 14,
   "id": "59913919-4a7a-4810-ba4b-ee78ec1d436e",
   "metadata": {},
   "outputs": [
    {
     "name": "stdout",
     "output_type": "stream",
     "text": [
      "thsi is without block\n",
      "[[[[ 1  2]\n",
      "   [ 3  4]]\n",
      "\n",
      "  [[ 5  6]\n",
      "   [ 7  8]]]\n",
      "\n",
      "\n",
      " [[[ 9 10]\n",
      "   [11 12]]\n",
      "\n",
      "  [[13 14]\n",
      "   [15 16]]]]\n",
      "this is w block\n",
      "[array([[[[ 1,  2],\n",
      "         [ 3,  4]],\n",
      "\n",
      "        [[ 5,  6],\n",
      "         [ 7,  8]]],\n",
      "\n",
      "\n",
      "       [[[ 9, 10],\n",
      "         [11, 12]],\n",
      "\n",
      "        [[13, 14],\n",
      "         [15, 16]]]])]\n",
      "[[[ 1  2  3  4]\n",
      "  [ 5  6  7  8]\n",
      "  [ 9 10 11 12]\n",
      "  [13 14 15 16]]\n",
      "\n",
      " [[17 18 19 20]\n",
      "  [21 22 23 24]\n",
      "  [25 26 27 28]\n",
      "  [29 30 31 32]]\n",
      "\n",
      " [[33 34 35 36]\n",
      "  [37 38 39 40]\n",
      "  [41 42 43 44]\n",
      "  [45 46 47 48]]\n",
      "\n",
      " [[49 50 51 52]\n",
      "  [53 54 55 56]\n",
      "  [57 58 59 60]\n",
      "  [61 62 63 64]]]\n"
     ]
    },
    {
     "ename": "RecursionError",
     "evalue": "maximum recursion depth exceeded in comparison",
     "output_type": "error",
     "traceback": [
      "\u001b[0;31m---------------------------------------------------------------------------\u001b[0m",
      "\u001b[0;31mRecursionError\u001b[0m                            Traceback (most recent call last)",
      "Cell \u001b[0;32mIn[14], line 9\u001b[0m\n\u001b[1;32m      7\u001b[0m \u001b[39mprint\u001b[39m(this)\n\u001b[1;32m      8\u001b[0m \u001b[39mprint\u001b[39m(testme)\n\u001b[0;32m----> 9\u001b[0m block(testme)\n",
      "Cell \u001b[0;32mIn[1], line 20\u001b[0m, in \u001b[0;36mblock\u001b[0;34m(matrix)\u001b[0m\n\u001b[1;32m     18\u001b[0m     slices[i] \u001b[39m=\u001b[39m \u001b[39mslice\u001b[39m(mid, \u001b[39mNone\u001b[39;00m)  \u001b[39m# slice for the second half along current dimension\u001b[39;00m\n\u001b[1;32m     19\u001b[0m     submatrix2 \u001b[39m=\u001b[39m matrix[\u001b[39mtuple\u001b[39m(slices)]\n\u001b[0;32m---> 20\u001b[0m     submatrices\u001b[39m.\u001b[39mextend(block(submatrix1))  \u001b[39m# recursively call block on each submatrix\u001b[39;00m\n\u001b[1;32m     21\u001b[0m     submatrices\u001b[39m.\u001b[39mextend(block(submatrix2))\n\u001b[1;32m     23\u001b[0m \u001b[39mreturn\u001b[39;00m submatrices\n",
      "Cell \u001b[0;32mIn[1], line 20\u001b[0m, in \u001b[0;36mblock\u001b[0;34m(matrix)\u001b[0m\n\u001b[1;32m     18\u001b[0m     slices[i] \u001b[39m=\u001b[39m \u001b[39mslice\u001b[39m(mid, \u001b[39mNone\u001b[39;00m)  \u001b[39m# slice for the second half along current dimension\u001b[39;00m\n\u001b[1;32m     19\u001b[0m     submatrix2 \u001b[39m=\u001b[39m matrix[\u001b[39mtuple\u001b[39m(slices)]\n\u001b[0;32m---> 20\u001b[0m     submatrices\u001b[39m.\u001b[39mextend(block(submatrix1))  \u001b[39m# recursively call block on each submatrix\u001b[39;00m\n\u001b[1;32m     21\u001b[0m     submatrices\u001b[39m.\u001b[39mextend(block(submatrix2))\n\u001b[1;32m     23\u001b[0m \u001b[39mreturn\u001b[39;00m submatrices\n",
      "    \u001b[0;31m[... skipping similar frames: block at line 20 (2967 times)]\u001b[0m\n",
      "Cell \u001b[0;32mIn[1], line 20\u001b[0m, in \u001b[0;36mblock\u001b[0;34m(matrix)\u001b[0m\n\u001b[1;32m     18\u001b[0m     slices[i] \u001b[39m=\u001b[39m \u001b[39mslice\u001b[39m(mid, \u001b[39mNone\u001b[39;00m)  \u001b[39m# slice for the second half along current dimension\u001b[39;00m\n\u001b[1;32m     19\u001b[0m     submatrix2 \u001b[39m=\u001b[39m matrix[\u001b[39mtuple\u001b[39m(slices)]\n\u001b[0;32m---> 20\u001b[0m     submatrices\u001b[39m.\u001b[39mextend(block(submatrix1))  \u001b[39m# recursively call block on each submatrix\u001b[39;00m\n\u001b[1;32m     21\u001b[0m     submatrices\u001b[39m.\u001b[39mextend(block(submatrix2))\n\u001b[1;32m     23\u001b[0m \u001b[39mreturn\u001b[39;00m submatrices\n",
      "Cell \u001b[0;32mIn[1], line 8\u001b[0m, in \u001b[0;36mblock\u001b[0;34m(matrix)\u001b[0m\n\u001b[1;32m      5\u001b[0m ndims \u001b[39m=\u001b[39m \u001b[39mlen\u001b[39m(dimensions)\n\u001b[1;32m      7\u001b[0m \u001b[39m# Base case: return itself\u001b[39;00m\n\u001b[0;32m----> 8\u001b[0m \u001b[39mif\u001b[39;00m \u001b[39mall\u001b[39;49m(dim \u001b[39m<\u001b[39;49m\u001b[39m=\u001b[39;49m \u001b[39m2\u001b[39;49m \u001b[39mfor\u001b[39;49;00m dim \u001b[39min\u001b[39;49;00m dimensions):\n\u001b[1;32m      9\u001b[0m     \u001b[39mreturn\u001b[39;00m [matrix]\n\u001b[1;32m     11\u001b[0m \u001b[39m# Split the matrix along each dimension\u001b[39;00m\n",
      "Cell \u001b[0;32mIn[1], line 8\u001b[0m, in \u001b[0;36m<genexpr>\u001b[0;34m(.0)\u001b[0m\n\u001b[1;32m      5\u001b[0m ndims \u001b[39m=\u001b[39m \u001b[39mlen\u001b[39m(dimensions)\n\u001b[1;32m      7\u001b[0m \u001b[39m# Base case: return itself\u001b[39;00m\n\u001b[0;32m----> 8\u001b[0m \u001b[39mif\u001b[39;00m \u001b[39mall\u001b[39m(dim \u001b[39m<\u001b[39;49m\u001b[39m=\u001b[39;49m \u001b[39m2\u001b[39;49m \u001b[39mfor\u001b[39;00m dim \u001b[39min\u001b[39;00m dimensions):\n\u001b[1;32m      9\u001b[0m     \u001b[39mreturn\u001b[39;00m [matrix]\n\u001b[1;32m     11\u001b[0m \u001b[39m# Split the matrix along each dimension\u001b[39;00m\n",
      "\u001b[0;31mRecursionError\u001b[0m: maximum recursion depth exceeded in comparison"
     ]
    }
   ],
   "source": [
    "arr4d = np.array([[[[1, 2], [3, 4]], [[5, 6], [7, 8]]], [[[9, 10], [11, 12]], [[13, 14], [15, 16]]]])\n",
    "print('thsi is without block')\n",
    "print(arr4d)\n",
    "\n",
    "this = block(arr4d)\n",
    "print('this is w block')\n",
    "print(this)\n",
    "print(testme)\n",
    "\n"
   ]
  },
  {
   "cell_type": "code",
   "execution_count": null,
   "id": "01ca6f5a-04d7-461a-807a-44404710e619",
   "metadata": {},
   "outputs": [],
   "source": []
  }
 ],
 "metadata": {
  "kernelspec": {
   "display_name": "Python 3 (ipykernel)",
   "language": "python",
   "name": "python3"
  },
  "language_info": {
   "codemirror_mode": {
    "name": "ipython",
    "version": 3
   },
   "file_extension": ".py",
   "mimetype": "text/x-python",
   "name": "python",
   "nbconvert_exporter": "python",
   "pygments_lexer": "ipython3",
   "version": "3.10.6"
  },
  "vscode": {
   "interpreter": {
    "hash": "31f2aee4e71d21fbe5cf8b01ff0e069b9275f58929596ceb00d14d90e3e16cd6"
   }
  }
 },
 "nbformat": 4,
 "nbformat_minor": 5
}
