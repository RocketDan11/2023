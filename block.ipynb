{
 "cells": [
  {
   "cell_type": "code",
   "execution_count": 6,
   "id": "8782e002",
   "metadata": {},
   "outputs": [
    {
     "name": "stdout",
     "output_type": "stream",
     "text": [
      "(3, 3)\n",
      "(3,)\n",
      "(1,)\n"
     ]
    }
   ],
   "source": [
    "import numpy as np\n",
    "A = np.array([[1,2,3],\n",
    "            [4,5,6],\n",
    "            [7,8,9]])\n",
    "#shape returns a tuple w the dimensions of the array\n",
    "print(A.shape)\n",
    "\n",
    "B = np.array([1,2,3])\n",
    "print(B.shape)\n",
    "\n",
    "C = np.array([1])\n",
    "print(C.shape)"
   ]
  },
  {
   "cell_type": "code",
   "execution_count": 7,
   "id": "6803b57d",
   "metadata": {},
   "outputs": [
    {
     "name": "stdout",
     "output_type": "stream",
     "text": [
      "[array([[1, 2],\n",
      "       [3, 4]])]\n"
     ]
    }
   ],
   "source": [
    "D = np.array([[1,2],\n",
    "            [3,4]])\n",
    "            \n",
    "def block(matrix):\n",
    "    rows, cols = matrix.shape\n",
    "    #base case, return itself\n",
    "    if rows <= 2 and cols <= 2:\n",
    "        return [matrix]\n",
    "\n",
    "    \n",
    "    \n",
    "print(block(D))\n",
    "    "
   ]
  },
  {
   "cell_type": "code",
   "execution_count": 8,
   "id": "cab5899c",
   "metadata": {},
   "outputs": [
    {
     "name": "stdout",
     "output_type": "stream",
     "text": [
      "[array([[1, 2],\n",
      "       [3, 4]])]\n"
     ]
    }
   ],
   "source": [
    "def block(matrix):\n",
    "    rows, cols = matrix.shape\n",
    "    #base case, return itself\n",
    "    if rows <= 2 and cols <= 2:\n",
    "        return [matrix]\n",
    "    \n",
    "    # Split the matrix into four quadrants\n",
    "    mid_row = rows // 2\n",
    "    mid_col = cols // 2\n",
    "\n",
    "\n",
    "print(block(D))   "
   ]
  },
  {
   "cell_type": "code",
   "execution_count": 9,
   "id": "7edc72cc",
   "metadata": {},
   "outputs": [
    {
     "name": "stdout",
     "output_type": "stream",
     "text": [
      "4\n",
      "None\n"
     ]
    }
   ],
   "source": [
    " #same thing as B but better.\n",
    "C  = np.arange(1, 65).reshape(8, 8)\n",
    "\n",
    "def block(matrix):\n",
    "    rows, cols = matrix.shape\n",
    "    #base case, return itself\n",
    "    if rows <= 2 and cols <= 2:\n",
    "        return [matrix]\n",
    "\n",
    "     # Split the matrix into four quadrants\n",
    "    mid_row = rows // 2\n",
    "    mid_col = cols // 2\n",
    "    print(mid_col)\n",
    "\n",
    "\n",
    "print(block(C))"
   ]
  },
  {
   "cell_type": "markdown",
   "id": "52a41a79",
   "metadata": {},
   "source": [
    "```:mid_row``` specifies a range from the beginning of the matrix up to (but not including)\n",
    "the mid_row index. This extracts the rows from index 0 to mid_row - 1\n",
    "\n",
    " By combining these two slicing operations, ```matrix[:mid_row, :mid_col]``` extracts the submatrix consisting of the rows from index 0 to mid_row - 1 and the columns from index 0 to mid_col - 1. This submatrix represents the top-left quadrant of the original matrix."
   ]
  },
  {
   "cell_type": "code",
   "execution_count": 10,
   "id": "2136e17c",
   "metadata": {},
   "outputs": [
    {
     "name": "stdout",
     "output_type": "stream",
     "text": [
      "[[ 1  2  3  4]\n",
      " [ 9 10 11 12]\n",
      " [17 18 19 20]\n",
      " [25 26 27 28]]\n",
      "None\n"
     ]
    }
   ],
   "source": [
    " #same thing as B but better.\n",
    "C  = np.arange(1, 65).reshape(8, 8)\n",
    "\n",
    "def block(matrix):\n",
    "    rows, cols = matrix.shape\n",
    "    #base case, return itself\n",
    "    if rows <= 2 and cols <= 2:\n",
    "        return [matrix]\n",
    "\n",
    "     # Split the matrix into four quadrants\n",
    "    mid_row = rows // 2\n",
    "    mid_col = cols // 2\n",
    "    \n",
    "    quadrant1 = matrix[:mid_row, :mid_col]\n",
    "    quadrant2 = matrix[:mid_row, mid_col:]\n",
    "    quadrant3 = matrix[mid_row:, :mid_col]\n",
    "    quadrant4 = matrix[mid_row:, mid_col:]\n",
    "    print(quadrant1)\n",
    "\n",
    "print(block(C))"
   ]
  },
  {
   "cell_type": "code",
   "execution_count": null,
   "id": "9a602ccc",
   "metadata": {},
   "outputs": [],
   "source": []
  }
 ],
 "metadata": {
  "kernelspec": {
   "display_name": "Python 3 (ipykernel)",
   "language": "python",
   "name": "python3"
  },
  "language_info": {
   "codemirror_mode": {
    "name": "ipython",
    "version": 3
   },
   "file_extension": ".py",
   "mimetype": "text/x-python",
   "name": "python",
   "nbconvert_exporter": "python",
   "pygments_lexer": "ipython3",
   "version": "3.9.13"
  },
  "vscode": {
   "interpreter": {
    "hash": "31f2aee4e71d21fbe5cf8b01ff0e069b9275f58929596ceb00d14d90e3e16cd6"
   }
  }
 },
 "nbformat": 4,
 "nbformat_minor": 5
}
