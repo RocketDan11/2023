{
 "cells": [
  {
   "cell_type": "markdown",
   "id": "038d26f9-3e37-4c96-bbe1-bb8b8ec46428",
   "metadata": {},
   "source": [
    "my notes from [TensorFlow](https://www.tensorflow.org/tutorials/quickstart/beginner)"
   ]
  },
  {
   "cell_type": "markdown",
   "id": "334cca7e-5de6-450f-8fff-87785899710b",
   "metadata": {},
   "source": [
    "- check TensorFlow version with the following command "
   ]
  },
  {
   "cell_type": "code",
   "execution_count": 22,
   "id": "db69c678-0e3e-4698-80b0-6ac7f5f3f300",
   "metadata": {},
   "outputs": [
    {
     "name": "stdout",
     "output_type": "stream",
     "text": [
      "TensorFlow version: 2.13.0\n"
     ]
    }
   ],
   "source": [
    "import tensorflow as tf\n",
    "print(\"TensorFlow version:\", tf.__version__)"
   ]
  },
  {
   "cell_type": "markdown",
   "id": "6a9cfe30-d213-4fd2-a536-73947a12857a",
   "metadata": {},
   "source": [
    "    now import the MNIST dataset. The pixel values of the images range from 0 through 255. Scale these values to a range of 0 to 1 by dividing the values by 255.0. This also converts the sample data from integers to floating-point numbers:"
   ]
  },
  {
   "cell_type": "code",
   "execution_count": 4,
   "id": "2483dba5-08a7-4f83-a2c3-a9daddcfebaa",
   "metadata": {},
   "outputs": [
    {
     "name": "stdout",
     "output_type": "stream",
     "text": [
      "Downloading data from https://storage.googleapis.com/tensorflow/tf-keras-datasets/mnist.npz\n",
      "11490434/11490434 [==============================] - 0s 0us/step\n"
     ]
    }
   ],
   "source": [
    "mnist = tf.keras.datasets.mnist\n",
    "\n",
    "(x_train, y_train), (x_test, y_test) = mnist.load_data()\n",
    "x_train, x_test = x_train / 255.0, x_test / 255.0"
   ]
  },
  {
   "cell_type": "markdown",
   "id": "dca20be9-ce86-4ead-8148-f5d754610c3e",
   "metadata": {},
   "source": [
    "# Build a machine learning model\n",
    "\n",
    "Build a ```tf.keras.Sequential```s model:\n"
   ]
  },
  {
   "cell_type": "code",
   "execution_count": 6,
   "id": "5ef5445e-b406-4cb9-b63f-2b0996cb3fe5",
   "metadata": {},
   "outputs": [],
   "source": [
    "model = tf.keras.models.Sequential([\n",
    "  tf.keras.layers.Flatten(input_shape=(28, 28)),\n",
    "  tf.keras.layers.Dense(128, activation='relu'),\n",
    "  tf.keras.layers.Dropout(0.2),\n",
    "  tf.keras.layers.Dense(10)\n",
    "])"
   ]
  },
  {
   "cell_type": "markdown",
   "id": "f2625ace-7975-4834-909c-d09dd49ec603",
   "metadata": {},
   "source": [
    "[`Sequential`](https://www.tensorflow.org/guide/keras/sequential_model) is useful for stacking layers where each layer has one input [tensor](https://www.tensorflow.org/guide/tensor) and one output tensor. Layers are functions with a known mathematical structure that can be reused and have trainable variables. Most TensorFlow models are composed of layers. This model uses the [`Flatten`](https://www.tensorflow.org/api_docs/python/tf/keras/layers/Flatten), [`Dense`](https://www.tensorflow.org/api_docs/python/tf/keras/layers/Dense), and [`Dropout`](https://www.tensorflow.org/api_docs/python/tf/keras/layers/Dropout) layers.\n",
    "\n",
    "For each example, the model returns a vector of [logits](https://developers.google.com/machine-learning/glossary#logits) or [log-odds](https://developers.google.com/machine-learning/glossary#log-odds) scores, one for each class."
   ]
  },
  {
   "cell_type": "code",
   "execution_count": 8,
   "id": "1a6cbaed-487e-4e9b-a1b3-586eadb6b417",
   "metadata": {},
   "outputs": [
    {
     "data": {
      "text/plain": [
       "array([[ 0.70252055,  0.41559777, -0.5264201 ,  0.36003548, -0.14209002,\n",
       "        -1.2794709 , -0.33003104, -0.5786648 , -0.09857407,  0.6588159 ]],\n",
       "      dtype=float32)"
      ]
     },
     "execution_count": 8,
     "metadata": {},
     "output_type": "execute_result"
    }
   ],
   "source": [
    "predictions = model(x_train[:1]).numpy()\n",
    "predictions"
   ]
  },
  {
   "cell_type": "code",
   "execution_count": 9,
   "id": "2380451e-4a39-44a4-9955-6a19f06a3ebb",
   "metadata": {},
   "outputs": [
    {
     "data": {
      "text/plain": [
       "array([[0.18654718, 0.14001665, 0.05458415, 0.1324492 , 0.08016392,\n",
       "        0.02570518, 0.06642893, 0.05180563, 0.08372934, 0.1785698 ]],\n",
       "      dtype=float32)"
      ]
     },
     "execution_count": 9,
     "metadata": {},
     "output_type": "execute_result"
    }
   ],
   "source": [
    "tf.nn.softmax(predictions).numpy()"
   ]
  },
  {
   "cell_type": "markdown",
   "id": "42cb285c-97eb-4842-86f9-578a3a6e4b79",
   "metadata": {},
   "source": [
    "- define a loss function"
   ]
  },
  {
   "cell_type": "code",
   "execution_count": 15,
   "id": "03ff0cf1-b425-477e-ac03-4409e676317b",
   "metadata": {},
   "outputs": [],
   "source": [
    "loss_fn = tf.keras.losses.SparseCategoricalCrossentropy(from_logits=True)"
   ]
  },
  {
   "cell_type": "code",
   "execution_count": 16,
   "id": "5187c436-ebd1-4052-b653-7afd5c04d07a",
   "metadata": {},
   "outputs": [
    {
     "data": {
      "text/plain": [
       "3.6610627"
      ]
     },
     "execution_count": 16,
     "metadata": {},
     "output_type": "execute_result"
    }
   ],
   "source": [
    "loss_fn(y_train[:1], predictions).numpy()"
   ]
  },
  {
   "cell_type": "markdown",
   "id": "62f95d64-7fa9-47ff-b7f3-3ef3ff15cbb8",
   "metadata": {},
   "source": [
    "Before you start training, configure and compile the model using Keras `Model.compile`. Set the [`optimizer`](https://www.tensorflow.org/api_docs/python/tf/keras/optimizers) class to `adam`, set the `loss` to the `loss_fn` function you defined earlier, and specify a metric to be evaluated for the model by setting the `metrics` parameter to `accuracy`."
   ]
  },
  {
   "cell_type": "code",
   "execution_count": 17,
   "id": "24d804b3-922b-4434-bdf4-af49789d25a3",
   "metadata": {},
   "outputs": [],
   "source": [
    "model.compile(optimizer='adam',\n",
    "              loss=loss_fn,\n",
    "              metrics=['accuracy'])"
   ]
  },
  {
   "cell_type": "markdown",
   "id": "4f4f9cb9-ccb3-4e22-9447-77e3bc64f55a",
   "metadata": {},
   "source": [
    "## Train and evaluate your model\n",
    "\n",
    "Use the `Model.fit` method to adjust your model parameters and minimize the loss: "
   ]
  },
  {
   "cell_type": "code",
   "execution_count": 18,
   "id": "3b7f59dd-735e-4577-a30c-bdc52a1b76d4",
   "metadata": {},
   "outputs": [
    {
     "name": "stdout",
     "output_type": "stream",
     "text": [
      "Epoch 1/5\n",
      "1875/1875 [==============================] - 4s 1ms/step - loss: 0.2977 - accuracy: 0.9139\n",
      "Epoch 2/5\n",
      "1875/1875 [==============================] - 3s 1ms/step - loss: 0.1444 - accuracy: 0.9565\n",
      "Epoch 3/5\n",
      "1875/1875 [==============================] - 3s 1ms/step - loss: 0.1080 - accuracy: 0.9665\n",
      "Epoch 4/5\n",
      "1875/1875 [==============================] - 2s 1ms/step - loss: 0.0872 - accuracy: 0.9726\n",
      "Epoch 5/5\n",
      "1875/1875 [==============================] - 3s 1ms/step - loss: 0.0745 - accuracy: 0.9765\n"
     ]
    },
    {
     "data": {
      "text/plain": [
       "<keras.src.callbacks.History at 0x7fb1b5a6f340>"
      ]
     },
     "execution_count": 18,
     "metadata": {},
     "output_type": "execute_result"
    }
   ],
   "source": [
    "model.fit(x_train, y_train, epochs=5)"
   ]
  },
  {
   "cell_type": "markdown",
   "id": "bd8c8a43-4bed-49e0-b5ee-8b50c934fd77",
   "metadata": {},
   "source": [
    "The Model.evaluate method checks the model's performance, usually on a validation set or test set.\n"
   ]
  },
  {
   "cell_type": "code",
   "execution_count": 19,
   "id": "82698d91-1c7d-4b65-8c62-edc60d87fac2",
   "metadata": {},
   "outputs": [
    {
     "name": "stdout",
     "output_type": "stream",
     "text": [
      "313/313 - 0s - loss: 0.0708 - accuracy: 0.9774 - 377ms/epoch - 1ms/step\n"
     ]
    },
    {
     "data": {
      "text/plain": [
       "[0.07077331095933914, 0.977400004863739]"
      ]
     },
     "execution_count": 19,
     "metadata": {},
     "output_type": "execute_result"
    }
   ],
   "source": [
    "model.evaluate(x_test,  y_test, verbose=2)"
   ]
  },
  {
   "cell_type": "code",
   "execution_count": 21,
   "id": "00f21fd2-13e5-49da-a273-74723ca41f76",
   "metadata": {},
   "outputs": [
    {
     "data": {
      "text/plain": [
       "<tf.Tensor: shape=(5, 10), dtype=float32, numpy=\n",
       "array([[1.0260934e-07, 2.4180751e-09, 1.4324409e-05, 5.8679521e-04,\n",
       "        2.0665678e-11, 3.5590483e-07, 3.3014951e-12, 9.9939346e-01,\n",
       "        2.7834703e-06, 2.2393408e-06],\n",
       "       [2.3044889e-07, 4.2401545e-04, 9.9949729e-01, 3.0085139e-05,\n",
       "        2.2316727e-13, 4.8112837e-05, 9.2978787e-08, 6.8019715e-11,\n",
       "        1.4055925e-07, 4.6444015e-11],\n",
       "       [7.2609719e-06, 9.9740320e-01, 5.0753320e-04, 1.9782785e-05,\n",
       "        1.9134778e-04, 6.6168519e-05, 1.9671008e-04, 1.0173905e-03,\n",
       "        5.6776818e-04, 2.2851162e-05],\n",
       "       [9.9994206e-01, 6.6718564e-09, 4.4313627e-05, 8.9707292e-08,\n",
       "        4.3692076e-08, 2.0092541e-06, 3.9502711e-06, 6.6227117e-06,\n",
       "        5.2709943e-08, 9.4767171e-07],\n",
       "       [1.0087297e-05, 3.8873580e-09, 1.7220551e-06, 3.0294721e-08,\n",
       "        9.9508697e-01, 8.6674199e-06, 2.9824903e-06, 1.1879695e-04,\n",
       "        4.9679539e-07, 4.7701690e-03]], dtype=float32)>"
      ]
     },
     "execution_count": 21,
     "metadata": {},
     "output_type": "execute_result"
    }
   ],
   "source": [
    "probability_model = tf.keras.Sequential([\n",
    "  model,\n",
    "  tf.keras.layers.Softmax()\n",
    "])\n",
    "probability_model(x_test[:5])"
   ]
  },
  {
   "cell_type": "code",
   "execution_count": null,
   "id": "31168051-9f97-40dc-98b7-8e717b9d793c",
   "metadata": {},
   "outputs": [],
   "source": []
  }
 ],
 "metadata": {
  "kernelspec": {
   "display_name": "Python 3 (ipykernel)",
   "language": "python",
   "name": "python3"
  },
  "language_info": {
   "codemirror_mode": {
    "name": "ipython",
    "version": 3
   },
   "file_extension": ".py",
   "mimetype": "text/x-python",
   "name": "python",
   "nbconvert_exporter": "python",
   "pygments_lexer": "ipython3",
   "version": "3.9.13"
  }
 },
 "nbformat": 4,
 "nbformat_minor": 5
}
