{
 "cells": [
  {
   "cell_type": "markdown",
   "id": "a4123d5b-0b39-4ff3-a955-d507c56b5f32",
   "metadata": {},
   "source": [
    "first, make sure you have these packages installed, run these commands in the terminal.\n",
    "\n",
    "```pip install keyboard```\n",
    "\n",
    "```pip install pyautogui```\n",
    "\n",
    "```pip install opencv-python```\n",
    "\n",
    "to see the X and Y coordinates of your pointer aswell as the RGB values, run the following code.\n",
    "\n",
    "\n"
   ]
  },
  {
   "cell_type": "code",
   "execution_count": 2,
   "id": "40c155c7-c06c-4158-b8e2-8d5b803cc5b0",
   "metadata": {},
   "outputs": [
    {
     "name": "stdout",
     "output_type": "stream",
     "text": [
      "Press Ctrl-C to quit.\n",
      "X:  373 Y:  137 RGB: (255, 255, 25X:  373 Y:  137 RGB: (255, 255, 25X:  624 Y:  468 RGB: (255, 255, 25X:  734 Y:  524 RGB: (245, 245, 24X:  741 Y:  531 RGB: (245, 245, 24X:  731 Y:  551 RGB: (245, 245, 24X:  490 Y:  563 RGB: (255, 255, 25X:  503 Y:  567 RGB: (255, 255, 25X:  306 Y:   88 RGB: (238, 238, 23X:  315 Y:  104 RGB: (255, 255, 25X:  377 Y:  176 RGB: (238, 238, 23X:  377 Y:  179 RGB: (238, 238, 23\n"
     ]
    }
   ],
   "source": [
    "#DO NOT RUN ION JUPYTER, ONLY IN TERMINAL\n",
    "import pyautogui\n",
    "pyautogui.displayMousePosition()\n"
   ]
  },
  {
   "cell_type": "markdown",
   "id": "d937a076-f6c1-414f-9c85-7318cdcb6b46",
   "metadata": {},
   "source": [
    "    to generate a click event"
   ]
  },
  {
   "cell_type": "code",
   "execution_count": 4,
   "id": "0d5e920a-fc7d-425d-9969-5b4df9e2f51d",
   "metadata": {},
   "outputs": [],
   "source": [
    "pyautogui.click(x=4833, y=897)"
   ]
  },
  {
   "cell_type": "code",
   "execution_count": 10,
   "id": "f9b68396-185b-4ccb-9ece-c250e430f521",
   "metadata": {},
   "outputs": [
    {
     "data": {
      "text/plain": [
       "True"
      ]
     },
     "execution_count": 10,
     "metadata": {},
     "output_type": "execute_result"
    }
   ],
   "source": [
    "#current cursor position\n",
    "pyautogui.position()\n",
    "#current screen resolution width and height\n",
    "pyautogui.size()\n",
    "#tru if x, y is on screen\n",
    "pyautogui.onScreen(500, 500)"
   ]
  },
  {
   "cell_type": "markdown",
   "id": "4b5af7d4-6943-4c7b-8627-d7dc4f0ad5aa",
   "metadata": {},
   "source": [
    "    Mouse functions"
   ]
  },
  {
   "cell_type": "code",
   "execution_count": 14,
   "id": "95a27c08-a590-4aa2-a98b-37fb85ce3394",
   "metadata": {},
   "outputs": [],
   "source": [
    "#move mouse to x, y over sum_sec time\n",
    "#pyautogui.moveTo(x, y, duration=num_sec)\n",
    "pyautogui.moveTo(1500, 2500, duration=1)"
   ]
  },
  {
   "cell_type": "code",
   "execution_count": 18,
   "id": "ecb862ca-5e29-49cf-baf7-0831ca7d1766",
   "metadata": {},
   "outputs": [],
   "source": [
    "#move relative to current cursor location\n",
    "#pyautogui.moveRel(xOffset, yOffset, duration=num_sec)\n",
    "pyautogui.moveRel(-500, -500, duration=2)\n",
    "\n"
   ]
  },
  {
   "cell_type": "code",
   "execution_count": 24,
   "id": "7dc8cfcf-e59b-43ba-a3f0-6436ab589ee0",
   "metadata": {},
   "outputs": [],
   "source": [
    "#drag mouse to x, y\n",
    "#pyautogui.dragTo(x, y, duration=num_sec)\n",
    "#drag relative to current cursor pos\n",
    "#pyautogui.dragRel(xOffset, yOffset, duration=num_sec)\n",
    "pyautogui.PAUSE = 2\n",
    "pyautogui.moveTo(5032, 972, duration=2)\n",
    "\n",
    "pyautogui.dragTo(5032, 1186, duration=2)\n",
    "\n",
    "\n"
   ]
  },
  {
   "cell_type": "markdown",
   "id": "69aed69c-ca53-4840-adc3-4491db5490fc",
   "metadata": {
    "jp-MarkdownHeadingCollapsed": true
   },
   "source": [
    "# import pyautogui\n",
    "def varr_agility():\n",
    "    while(1):\n",
    "        pyautogui.PAUSE = 20\n",
    "        pyautogui.moveTo(x=3022, y=840)\n",
    "        pyautogui.click(x=3022, y=840)\n",
    "        pyautogui.click(x=3509, y=736)\n",
    "        pyautogui.click(x=3437, y=641)\n",
    "        pyautogui.click(x=3530, y=775)\n",
    "        pyautogui.click(x=3932, y=993)\n",
    "        pyautogui.click(x=4489, y=756)\n",
    "        pyautogui.click(x=4441, y=629)\n",
    "        pyautogui.click(x=3855, y=507)\n",
    "        pyautogui.click(x=3858, y=553)\n",
    "\n",
    "\n",
    "\n"
   ]
  },
  {
   "cell_type": "markdown",
   "id": "b1b1df9a-053f-4ffb-bf52-a4900b80d00f",
   "metadata": {},
   "source": [
    "# varr_agility()"
   ]
  },
  {
   "cell_type": "code",
   "execution_count": 13,
   "id": "a35ccd62-d9c6-4047-a723-580c0123cf6c",
   "metadata": {},
   "outputs": [],
   "source": [
    "# import pyautogui\n",
    "def varr_agility():\n",
    "    while(1):\n",
    "        pyautogui.PAUSE = 6\n",
    "        pyautogui.moveTo(x=3022, y=840)\n",
    "        pyautogui.click(x=3022, y=840)\n",
    "        pyautogui.moveTo(x=3509, y=736)\n",
    "        pyautogui.click(x=3509, y=736)\n",
    "        pyautogui.moveTo(x=3437, y=641)\n",
    "        pyautogui.click(x=3437, y=641)\n",
    "        pyautogui.moveTo(x=3530, y=775)\n",
    "        pyautogui.click(x=3530, y=775)\n",
    "        pyautogui.moveTo(x=3932, y=993)\n",
    "        pyautogui.click(x=3932, y=993)\n",
    "        pyautogui.moveTo(x=4489, y=756)\n",
    "        pyautogui.click(x=4489, y=756)\n",
    "        pyautogui.moveTo(x=4441, y=629)\n",
    "        pyautogui.click(x=4441, y=629)\n",
    "        pyautogui.moveTo(x=3855, y=507)\n",
    "        pyautogui.click(x=3855, y=507)\n",
    "        pyautogui.moveTo(x=3858, y=553)\n",
    "        pyautogui.click(x=3858, y=553)\n",
    "\n"
   ]
  },
  {
   "cell_type": "code",
   "execution_count": 17,
   "id": "a3fc48ac-c8d2-480b-933e-24a565b0c5b6",
   "metadata": {
    "scrolled": true
   },
   "outputs": [
    {
     "ename": "KeyboardInterrupt",
     "evalue": "",
     "output_type": "error",
     "traceback": [
      "\u001b[0;31m---------------------------------------------------------------------------\u001b[0m",
      "\u001b[0;31mKeyboardInterrupt\u001b[0m                         Traceback (most recent call last)",
      "Cell \u001b[0;32mIn[17], line 1\u001b[0m\n\u001b[0;32m----> 1\u001b[0m \u001b[43mvarr_agility\u001b[49m\u001b[43m(\u001b[49m\u001b[43m)\u001b[49m\n",
      "Cell \u001b[0;32mIn[13], line 6\u001b[0m, in \u001b[0;36mvarr_agility\u001b[0;34m()\u001b[0m\n\u001b[1;32m      4\u001b[0m pyautogui\u001b[38;5;241m.\u001b[39mPAUSE \u001b[38;5;241m=\u001b[39m \u001b[38;5;241m6\u001b[39m\n\u001b[1;32m      5\u001b[0m pyautogui\u001b[38;5;241m.\u001b[39mmoveTo(x\u001b[38;5;241m=\u001b[39m\u001b[38;5;241m3022\u001b[39m, y\u001b[38;5;241m=\u001b[39m\u001b[38;5;241m840\u001b[39m)\n\u001b[0;32m----> 6\u001b[0m \u001b[43mpyautogui\u001b[49m\u001b[38;5;241;43m.\u001b[39;49m\u001b[43mclick\u001b[49m\u001b[43m(\u001b[49m\u001b[43mx\u001b[49m\u001b[38;5;241;43m=\u001b[39;49m\u001b[38;5;241;43m3022\u001b[39;49m\u001b[43m,\u001b[49m\u001b[43m \u001b[49m\u001b[43my\u001b[49m\u001b[38;5;241;43m=\u001b[39;49m\u001b[38;5;241;43m840\u001b[39;49m\u001b[43m)\u001b[49m\n\u001b[1;32m      7\u001b[0m pyautogui\u001b[38;5;241m.\u001b[39mmoveTo(x\u001b[38;5;241m=\u001b[39m\u001b[38;5;241m3509\u001b[39m, y\u001b[38;5;241m=\u001b[39m\u001b[38;5;241m736\u001b[39m)\n\u001b[1;32m      8\u001b[0m pyautogui\u001b[38;5;241m.\u001b[39mclick(x\u001b[38;5;241m=\u001b[39m\u001b[38;5;241m3509\u001b[39m, y\u001b[38;5;241m=\u001b[39m\u001b[38;5;241m736\u001b[39m)\n",
      "File \u001b[0;32m~/.local/lib/python3.10/site-packages/pyautogui/__init__.py:595\u001b[0m, in \u001b[0;36m_genericPyAutoGUIChecks.<locals>.wrapper\u001b[0;34m(*args, **kwargs)\u001b[0m\n\u001b[1;32m    593\u001b[0m failSafeCheck()\n\u001b[1;32m    594\u001b[0m returnVal \u001b[38;5;241m=\u001b[39m wrappedFunction(\u001b[38;5;241m*\u001b[39margs, \u001b[38;5;241m*\u001b[39m\u001b[38;5;241m*\u001b[39mkwargs)\n\u001b[0;32m--> 595\u001b[0m \u001b[43m_handlePause\u001b[49m\u001b[43m(\u001b[49m\u001b[43mkwargs\u001b[49m\u001b[38;5;241;43m.\u001b[39;49m\u001b[43mget\u001b[49m\u001b[43m(\u001b[49m\u001b[38;5;124;43m\"\u001b[39;49m\u001b[38;5;124;43m_pause\u001b[39;49m\u001b[38;5;124;43m\"\u001b[39;49m\u001b[43m,\u001b[49m\u001b[43m \u001b[49m\u001b[38;5;28;43;01mTrue\u001b[39;49;00m\u001b[43m)\u001b[49m\u001b[43m)\u001b[49m\n\u001b[1;32m    596\u001b[0m \u001b[38;5;28;01mreturn\u001b[39;00m returnVal\n",
      "File \u001b[0;32m~/.local/lib/python3.10/site-packages/pyautogui/__init__.py:639\u001b[0m, in \u001b[0;36m_handlePause\u001b[0;34m(_pause)\u001b[0m\n\u001b[1;32m    637\u001b[0m \u001b[38;5;28;01mif\u001b[39;00m _pause:\n\u001b[1;32m    638\u001b[0m     \u001b[38;5;28;01massert\u001b[39;00m \u001b[38;5;28misinstance\u001b[39m(PAUSE, \u001b[38;5;28mint\u001b[39m) \u001b[38;5;129;01mor\u001b[39;00m \u001b[38;5;28misinstance\u001b[39m(PAUSE, \u001b[38;5;28mfloat\u001b[39m)\n\u001b[0;32m--> 639\u001b[0m     \u001b[43mtime\u001b[49m\u001b[38;5;241;43m.\u001b[39;49m\u001b[43msleep\u001b[49m\u001b[43m(\u001b[49m\u001b[43mPAUSE\u001b[49m\u001b[43m)\u001b[49m\n",
      "\u001b[0;31mKeyboardInterrupt\u001b[0m: "
     ]
    }
   ],
   "source": [
    "varr_agility()"
   ]
  },
  {
   "cell_type": "code",
   "execution_count": 19,
   "id": "bedc4705-55b3-4cb2-b4e8-4d449455381d",
   "metadata": {},
   "outputs": [
    {
     "name": "stdout",
     "output_type": "stream",
     "text": [
      "Recording mouse clicks for 10 seconds. Press Ctrl + C to stop.\n"
     ]
    },
    {
     "ename": "TypeError",
     "evalue": "cannot unpack non-iterable NoneType object",
     "output_type": "error",
     "traceback": [
      "\u001b[0;31m---------------------------------------------------------------------------\u001b[0m",
      "\u001b[0;31mTypeError\u001b[0m                                 Traceback (most recent call last)",
      "Cell \u001b[0;32mIn[19], line 22\u001b[0m\n\u001b[1;32m     20\u001b[0m \u001b[38;5;28mprint\u001b[39m(\u001b[38;5;124m\"\u001b[39m\u001b[38;5;124mRecording mouse clicks for \u001b[39m\u001b[38;5;132;01m{}\u001b[39;00m\u001b[38;5;124m seconds. Press Ctrl + C to stop.\u001b[39m\u001b[38;5;124m\"\u001b[39m\u001b[38;5;241m.\u001b[39mformat(record_duration))\n\u001b[1;32m     21\u001b[0m \u001b[38;5;28;01mtry\u001b[39;00m:\n\u001b[0;32m---> 22\u001b[0m     \u001b[43mrecord_clicks\u001b[49m\u001b[43m(\u001b[49m\u001b[43m)\u001b[49m\n\u001b[1;32m     23\u001b[0m \u001b[38;5;28;01mexcept\u001b[39;00m \u001b[38;5;167;01mKeyboardInterrupt\u001b[39;00m:\n\u001b[1;32m     24\u001b[0m     \u001b[38;5;28;01mpass\u001b[39;00m\n",
      "Cell \u001b[0;32mIn[19], line 14\u001b[0m, in \u001b[0;36mrecord_clicks\u001b[0;34m()\u001b[0m\n\u001b[1;32m     12\u001b[0m start_time \u001b[38;5;241m=\u001b[39m time\u001b[38;5;241m.\u001b[39mtime()\n\u001b[1;32m     13\u001b[0m \u001b[38;5;28;01mwhile\u001b[39;00m time\u001b[38;5;241m.\u001b[39mtime() \u001b[38;5;241m-\u001b[39m start_time \u001b[38;5;241m<\u001b[39m record_duration:\n\u001b[0;32m---> 14\u001b[0m     x, y, button_state \u001b[38;5;241m=\u001b[39m pyautogui\u001b[38;5;241m.\u001b[39mmouseInfo()\n\u001b[1;32m     15\u001b[0m     \u001b[38;5;28;01mif\u001b[39;00m button_state \u001b[38;5;241m==\u001b[39m \u001b[38;5;124m'\u001b[39m\u001b[38;5;124mdown\u001b[39m\u001b[38;5;124m'\u001b[39m:\n\u001b[1;32m     16\u001b[0m         recorded_clicks\u001b[38;5;241m.\u001b[39mappend((x, y))\n",
      "\u001b[0;31mTypeError\u001b[0m: cannot unpack non-iterable NoneType object"
     ]
    }
   ],
   "source": [
    "import time\n",
    "import pyautogui\n",
    "\n",
    "# List to store recorded click events\n",
    "recorded_clicks = []\n",
    "\n",
    "# Record mouse clicks for 10 seconds\n",
    "record_duration = 10  # in seconds\n",
    "\n",
    "# Function to record click events\n",
    "def record_clicks():\n",
    "    start_time = time.time()\n",
    "    while time.time() - start_time < record_duration:\n",
    "        x, y, button_state = pyautogui.mouseInfo()\n",
    "        if button_state == 'down':\n",
    "            recorded_clicks.append((x, y))\n",
    "        time.sleep(0.1)  # Adjust the sleep time to control the recording frequency\n",
    "\n",
    "# Start recording mouse clicks\n",
    "print(\"Recording mouse clicks for {} seconds. Press Ctrl + C to stop.\".format(record_duration))\n",
    "try:\n",
    "    record_clicks()\n",
    "except KeyboardInterrupt:\n",
    "    pass\n",
    "\n",
    "# Print recorded clicks\n",
    "print(\"Recorded clicks:\")\n",
    "for click in recorded_clicks:\n",
    "    print(click)"
   ]
  },
  {
   "cell_type": "code",
   "execution_count": 24,
   "id": "2f9de653-4a6d-4ab4-9fb7-63b2cc57a9bf",
   "metadata": {},
   "outputs": [
    {
     "name": "stdout",
     "output_type": "stream",
     "text": [
      "Recording mouse clicks for 10 seconds. Press Ctrl + C to stop.\n"
     ]
    },
    {
     "ename": "TypeError",
     "evalue": "cannot unpack non-iterable NoneType object",
     "output_type": "error",
     "traceback": [
      "\u001b[0;31m---------------------------------------------------------------------------\u001b[0m",
      "\u001b[0;31mTypeError\u001b[0m                                 Traceback (most recent call last)",
      "Cell \u001b[0;32mIn[24], line 13\u001b[0m\n\u001b[1;32m     11\u001b[0m \u001b[38;5;28mprint\u001b[39m(\u001b[38;5;124m\"\u001b[39m\u001b[38;5;124mRecording mouse clicks for \u001b[39m\u001b[38;5;132;01m{}\u001b[39;00m\u001b[38;5;124m seconds. Press Ctrl + C to stop.\u001b[39m\u001b[38;5;124m\"\u001b[39m\u001b[38;5;241m.\u001b[39mformat(record_duration))\n\u001b[1;32m     12\u001b[0m \u001b[38;5;28;01mtry\u001b[39;00m:\n\u001b[0;32m---> 13\u001b[0m     \u001b[43mrecord_clicks\u001b[49m\u001b[43m(\u001b[49m\u001b[43m)\u001b[49m\n\u001b[1;32m     14\u001b[0m \u001b[38;5;28;01mexcept\u001b[39;00m \u001b[38;5;167;01mKeyboardInterrupt\u001b[39;00m:\n\u001b[1;32m     15\u001b[0m     \u001b[38;5;28;01mpass\u001b[39;00m\n",
      "Cell \u001b[0;32mIn[24], line 5\u001b[0m, in \u001b[0;36mrecord_clicks\u001b[0;34m()\u001b[0m\n\u001b[1;32m      3\u001b[0m \u001b[38;5;28;01mwhile\u001b[39;00m(\u001b[38;5;241m1\u001b[39m):\n\u001b[1;32m      4\u001b[0m     recorded_clicks \u001b[38;5;241m=\u001b[39m []\n\u001b[0;32m----> 5\u001b[0m     x, y, button_state \u001b[38;5;241m=\u001b[39m pyautogui\u001b[38;5;241m.\u001b[39mmouseInfo()\n\u001b[1;32m      6\u001b[0m     \u001b[38;5;28;01mif\u001b[39;00m button_state \u001b[38;5;241m==\u001b[39m \u001b[38;5;124m'\u001b[39m\u001b[38;5;124mdown\u001b[39m\u001b[38;5;124m'\u001b[39m:\n\u001b[1;32m      7\u001b[0m         recorded_clicks\u001b[38;5;241m.\u001b[39mappend((x, y))\n",
      "\u001b[0;31mTypeError\u001b[0m: cannot unpack non-iterable NoneType object"
     ]
    }
   ],
   "source": [
    "pyautogui.mouseInfo()\n",
    "def record_clicks():\n",
    "    while(1):\n",
    "        recorded_clicks = []\n",
    "        x, y, button_state = pyautogui.mouseInfo()\n",
    "        if button_state == 'down':\n",
    "            recorded_clicks.append((x, y))\n",
    "        time.sleep(0.1)  # Adjust the sleep time to control the recording frequency\n",
    "        return recorded_clicks\n",
    "\n",
    "print(\"Recording mouse clicks for {} seconds. Press Ctrl + C to stop.\".format(record_duration))\n",
    "try:\n",
    "    record_clicks()\n",
    "except KeyboardInterrupt:\n",
    "    pass\n",
    "\n",
    "# Print recorded clicks\n",
    "print(\"Recorded clicks:\")\n",
    "for click in recorded_clicks:\n",
    "    print(click)\n",
    "        \n"
   ]
  },
  {
   "cell_type": "code",
   "execution_count": 26,
   "id": "81f007ad-551f-456b-be3d-411ec17cf24f",
   "metadata": {},
   "outputs": [
    {
     "ename": "TypeError",
     "evalue": "cannot unpack non-iterable NoneType object",
     "output_type": "error",
     "traceback": [
      "\u001b[0;31m---------------------------------------------------------------------------\u001b[0m",
      "\u001b[0;31mTypeError\u001b[0m                                 Traceback (most recent call last)",
      "Cell \u001b[0;32mIn[26], line 2\u001b[0m\n\u001b[1;32m      1\u001b[0m recorded_clicks \u001b[38;5;241m=\u001b[39m []\n\u001b[0;32m----> 2\u001b[0m x, y, button_state \u001b[38;5;241m=\u001b[39m pyautogui\u001b[38;5;241m.\u001b[39mmouseInfo()\n\u001b[1;32m      3\u001b[0m \u001b[38;5;28;01mif\u001b[39;00m button_state \u001b[38;5;241m==\u001b[39m \u001b[38;5;124m'\u001b[39m\u001b[38;5;124mdown\u001b[39m\u001b[38;5;124m'\u001b[39m:\n\u001b[1;32m      4\u001b[0m     recorded_clicks\u001b[38;5;241m.\u001b[39mappend((x, y))\n",
      "\u001b[0;31mTypeError\u001b[0m: cannot unpack non-iterable NoneType object"
     ]
    }
   ],
   "source": [
    "recorded_clicks = []\n",
    "x, y, button_state = pyautogui.mouseInfo()\n",
    "if button_state == 'down':\n",
    "    recorded_clicks.append((x, y))"
   ]
  },
  {
   "cell_type": "code",
   "execution_count": null,
   "id": "87020bb7-3b40-4b89-a381-a708f25118d7",
   "metadata": {},
   "outputs": [],
   "source": []
  },
  {
   "cell_type": "code",
   "execution_count": null,
   "id": "859b2eb0-63dd-4e37-80a2-240f60c82fa6",
   "metadata": {},
   "outputs": [],
   "source": []
  }
 ],
 "metadata": {
  "kernelspec": {
   "display_name": "Python 3 (ipykernel)",
   "language": "python",
   "name": "python3"
  },
  "language_info": {
   "codemirror_mode": {
    "name": "ipython",
    "version": 3
   },
   "file_extension": ".py",
   "mimetype": "text/x-python",
   "name": "python",
   "nbconvert_exporter": "python",
   "pygments_lexer": "ipython3",
   "version": "3.10.6"
  }
 },
 "nbformat": 4,
 "nbformat_minor": 5
}
