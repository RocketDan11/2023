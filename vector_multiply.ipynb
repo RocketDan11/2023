{
 "cells": [
  {
   "cell_type": "markdown",
   "id": "ed4a52c0",
   "metadata": {},
   "source": [
    "# time to complete elementwise vector multiplication using set comprehension"
   ]
  },
  {
   "cell_type": "code",
   "execution_count": 8,
   "id": "83e82f1b",
   "metadata": {},
   "outputs": [
    {
     "data": {
      "text/plain": [
       "[2.016499999513144e-05]"
      ]
     },
     "execution_count": 8,
     "metadata": {},
     "output_type": "execute_result"
    }
   ],
   "source": [
    "import timeit\n",
    "def Average(lst):\n",
    "    return sum(lst) / len(lst)\n",
    "\n",
    "def test_vector(n):\n",
    "    return list(range(1, n+1))\n",
    "\n",
    "# N = int(input('enter n: '))\n",
    "\n",
    "# v1 = test_vector(N)\n",
    "# v2 = test_vector(N)\n",
    "\n",
    "def vector_multiply(v1,v2):\n",
    "    return [x*y for x,y in zip(v1,v2)]\n",
    "\n",
    "\n",
    "setup = '''\n",
    "from __main__ import test_vector\n",
    "from __main__ import vector_multiply\n",
    "SIZE = 100\n",
    "v1 = test_vector(SIZE)\n",
    "v2 = test_vector(SIZE)\n",
    "'''\n",
    "\n",
    "statement = 'vector_multiply(v1,v2)'\n",
    "\n",
    "execute_time = []\n",
    "execute_time.append(timeit.timeit(statement, setup=setup, number=1))\n",
    "execute_time\n"
   ]
  },
  {
   "cell_type": "code",
   "execution_count": null,
   "id": "1f6ecc42",
   "metadata": {},
   "outputs": [],
   "source": []
  }
 ],
 "metadata": {
  "kernelspec": {
   "display_name": "Python 3 (ipykernel)",
   "language": "python",
   "name": "python3"
  },
  "language_info": {
   "codemirror_mode": {
    "name": "ipython",
    "version": 3
   },
   "file_extension": ".py",
   "mimetype": "text/x-python",
   "name": "python",
   "nbconvert_exporter": "python",
   "pygments_lexer": "ipython3",
   "version": "3.9.13"
  }
 },
 "nbformat": 4,
 "nbformat_minor": 5
}
