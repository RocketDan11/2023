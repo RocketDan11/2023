{
 "cells": [
  {
   "cell_type": "code",
   "execution_count": 22,
   "id": "023fe7fb",
   "metadata": {
    "scrolled": true
   },
   "outputs": [
    {
     "name": "stdout",
     "output_type": "stream",
     "text": [
      "[[1 2 3]\n",
      " [4 5 6]\n",
      " [7 8 9]]\n",
      "[[1 2 3]\n",
      " [4 5 6]\n",
      " [7 8 9]]\n"
     ]
    }
   ],
   "source": [
    "import numpy as np\n",
    "\n",
    "\n",
    "A = np.arange(1, 10).reshape(3, 3)\n",
    "B = np.arange(1, 10).reshape(3, 3)\n",
    "C = np.arange(1, 17).reshape(4, 4)\n",
    "#OR\n",
    "#matrix_size = 3  \n",
    "#A = np.random.rand(matrix_size, matrix_size)\n",
    "\n",
    "print(A)\n",
    "print(B)"
   ]
  },
  {
   "cell_type": "code",
   "execution_count": 24,
   "id": "85143f82",
   "metadata": {},
   "outputs": [
    {
     "name": "stdout",
     "output_type": "stream",
     "text": [
      "dimension error\n",
      "3\n",
      "4\n"
     ]
    }
   ],
   "source": [
    "#ijk loop\n",
    "def ijk_mm(A,B):\n",
    "    #check dimensions for compatibility\n",
    "    row1 = len(A)\n",
    "    row2 = len(B)\n",
    "    col1 = len(A[0])\n",
    "    col2 = len(B[0])\n",
    "    if row2 != col1:\n",
    "        print(\"dimension error\")\n",
    "    \n",
    "    print(col1)\n",
    "    print(row2)\n",
    "ijk_mm(A,C)"
   ]
  },
  {
   "cell_type": "raw",
   "id": "f343f5e6",
   "metadata": {},
   "source": [
    "creating result.\n",
    "\n",
    "the breakdown\n",
    "- creates an appropriately sized 2D list\n",
    "- the outer list comprehension creares 'rowsA' number of rows.\n",
    "- the inner comprehension creates 'colsB' number of zeros for each row.\n"
   ]
  },
  {
   "cell_type": "code",
   "execution_count": 30,
   "id": "fcf92388",
   "metadata": {},
   "outputs": [
    {
     "name": "stdout",
     "output_type": "stream",
     "text": [
      "[[0, 0, 0], [0, 0, 0], [0, 0, 0]]\n"
     ]
    }
   ],
   "source": [
    "#ijk loop\n",
    "def ijk_mm(A,B):\n",
    "    #check dimensions for compatibility\n",
    "    rowsA = len(A)\n",
    "    rowsB = len(B)\n",
    "    colsA = len(A[0])\n",
    "    colsB = len(B[0])\n",
    "    if rowsB != colsA:\n",
    "        print(\"dimension error\")\n",
    "\n",
    "    result = [[0 for _ in range(colsB)] for _ in range(rowsA)]\n",
    "    print(result)\n",
    "ijk_mm(A,B)"
   ]
  },
  {
   "cell_type": "code",
   "execution_count": null,
   "id": "1aa85628",
   "metadata": {},
   "outputs": [],
   "source": []
  }
 ],
 "metadata": {
  "kernelspec": {
   "display_name": "Python 3 (ipykernel)",
   "language": "python",
   "name": "python3"
  },
  "language_info": {
   "codemirror_mode": {
    "name": "ipython",
    "version": 3
   },
   "file_extension": ".py",
   "mimetype": "text/x-python",
   "name": "python",
   "nbconvert_exporter": "python",
   "pygments_lexer": "ipython3",
   "version": "3.9.13"
  }
 },
 "nbformat": 4,
 "nbformat_minor": 5
}
