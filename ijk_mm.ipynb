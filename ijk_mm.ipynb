{
 "cells": [
  {
   "cell_type": "code",
   "execution_count": 6,
   "id": "67dda91a",
   "metadata": {
    "scrolled": true
   },
   "outputs": [
    {
     "name": "stdout",
     "output_type": "stream",
     "text": [
      "[[0.39969152 0.08721791 0.03591984 0.30555933]\n",
      " [0.99563315 0.52312975 0.18247281 0.7342443 ]\n",
      " [0.07547338 0.5282823  0.43260333 0.94102031]\n",
      " [0.06308547 0.59737118 0.13160059 0.96832797]]\n",
      "[[0.08753088 0.44628771 0.06388255 0.12350883]\n",
      " [0.83816404 0.66513041 0.17535156 0.32114878]\n",
      " [0.14280724 0.53797191 0.22976456 0.97072313]\n",
      " [0.06908333 0.42056469 0.81145394 0.79552822]]\n"
     ]
    }
   ],
   "source": [
    "import numpy as np\n",
    "\n",
    "\n",
    "#A = np.arange(1, 10).reshape(3, 3)\n",
    "#B = np.arange(1, 10).reshape(3, 3)\n",
    "C = np.arange(1, 17).reshape(4, 4)\n",
    "#OR\n",
    "matrix_size = 4  \n",
    "A = np.random.rand(matrix_size, matrix_size)\n",
    "B = np.random.rand(matrix_size, matrix_size)\n",
    "\n",
    "\n",
    "print(A)\n",
    "print(B)"
   ]
  },
  {
   "cell_type": "code",
   "execution_count": 7,
   "id": "280b2a28",
   "metadata": {},
   "outputs": [],
   "source": [
    "#using a decorator to calculate execution time\n",
    "import time\n",
    "import math\n",
    "\n",
    "def timeit(func):\n",
    "    #if function takes arguments, can be added like this\n",
    "    def inner1(*args, **kwargs):\n",
    "        begin = time.time()\n",
    "        \n",
    "        func(*args, **kwargs)\n",
    "        \n",
    "        end = time.time()\n",
    "        \n",
    "        print(\"time to execute : \", func.__name__, end - begin)\n",
    "        \n",
    "    return inner1"
   ]
  },
  {
   "cell_type": "code",
   "execution_count": 8,
   "id": "a98811a0",
   "metadata": {},
   "outputs": [
    {
     "name": "stdout",
     "output_type": "stream",
     "text": [
      "4\n",
      "4\n"
     ]
    }
   ],
   "source": [
    "#ijk loop\n",
    "def ijk_mm(A,B):\n",
    "    #check dimensions for compatibility\n",
    "    row1 = len(A)\n",
    "    row2 = len(B)\n",
    "    col1 = len(A[0])\n",
    "    col2 = len(B[0])\n",
    "    if row2 != col1:\n",
    "        print(\"dimension error\")\n",
    "    \n",
    "    print(col1)\n",
    "    print(row2)\n",
    "ijk_mm(A,C)"
   ]
  },
  {
   "cell_type": "raw",
   "id": "b73dce7f",
   "metadata": {},
   "source": [
    "creating result.\n",
    "\n",
    "the breakdown\n",
    "- creates an appropriately sized 2D list\n",
    "- the outer list comprehension creares 'rowsA' number of rows.\n",
    "- the inner comprehension creates 'colsB' number of zeros for each row.\n"
   ]
  },
  {
   "cell_type": "code",
   "execution_count": 9,
   "id": "d6b1b1d9",
   "metadata": {},
   "outputs": [
    {
     "name": "stdout",
     "output_type": "stream",
     "text": [
      "[[0, 0, 0, 0], [0, 0, 0, 0], [0, 0, 0, 0], [0, 0, 0, 0]]\n"
     ]
    }
   ],
   "source": [
    "#ijk loop\n",
    "def ijk_mm(A,B):\n",
    "    #check dimensions for compatibility\n",
    "    rowsA = len(A)\n",
    "    rowsB = len(B)\n",
    "    colsA = len(A[0])\n",
    "    colsB = len(B[0])\n",
    "    if rowsB != colsA:\n",
    "        print(\"dimension error\")\n",
    "\n",
    "    result = [[0 for _ in range(colsB)] for _ in range(rowsA)]\n",
    "    print(result)\n",
    "ijk_mm(A,B)"
   ]
  },
  {
   "cell_type": "code",
   "execution_count": 10,
   "id": "6f2fd8ab",
   "metadata": {},
   "outputs": [
    {
     "name": "stdout",
     "output_type": "stream",
     "text": [
      "[0.13432693299176393, 0.3842200266184153, 0.29702753830637096, 0.35532464573867106]\n",
      "[0.6023996676905483, 1.199250821716239, 0.793066415443849, 1.0522146058362574]\n",
      "[0.5761811856915369, 1.013547820585842, 0.9604481044846049, 1.3475251065873715]\n",
      "[0.5919058066397176, 0.9035259805806933, 0.9247707216099075, 1.0977165894755574]\n"
     ]
    }
   ],
   "source": [
    "#ijk loop\n",
    "def ijk_mm(A,B):\n",
    "    #check dimensions for compatibility\n",
    "    rowsA = len(A)\n",
    "    rowsB = len(B)\n",
    "    colsA = len(A[0])\n",
    "    colsB = len(B[0])\n",
    "    if rowsB != colsA:\n",
    "        print(\"dimension error\")\n",
    "\n",
    "    result = [[0 for _ in range(colsB)] for _ in range(rowsA)]\n",
    "    \n",
    "    for i in range(rowsA):\n",
    "        for j in range(colsB):\n",
    "            for k in range(colsA):\n",
    "                result[i][j] += A[i][k] * B[k][j]\n",
    "    for row in result:\n",
    "        print(row)\n",
    "        \n",
    "ijk_mm(A,B)"
   ]
  },
  {
   "cell_type": "markdown",
   "id": "c2eca00e",
   "metadata": {},
   "source": [
    "# timing w homebrew timer"
   ]
  },
  {
   "cell_type": "code",
   "execution_count": 11,
   "id": "43992aba",
   "metadata": {},
   "outputs": [
    {
     "name": "stdout",
     "output_type": "stream",
     "text": [
      "[0.13432693299176393, 0.3842200266184153, 0.29702753830637096, 0.35532464573867106]\n",
      "[0.6023996676905483, 1.199250821716239, 0.793066415443849, 1.0522146058362574]\n",
      "[0.5761811856915369, 1.013547820585842, 0.9604481044846049, 1.3475251065873715]\n",
      "[0.5919058066397176, 0.9035259805806933, 0.9247707216099075, 1.0977165894755574]\n",
      "time to execute :  ijk_mm 0.0006809234619140625\n"
     ]
    }
   ],
   "source": [
    "@timeit\n",
    "def ijk_mm(A,B):\n",
    "    #check dimensions for compatibility\n",
    "    rowsA = len(A)\n",
    "    rowsB = len(B)\n",
    "    colsA = len(A[0])\n",
    "    colsB = len(B[0])\n",
    "    if rowsB != colsA:\n",
    "        print(\"dimension error\")\n",
    "\n",
    "    result = [[0 for _ in range(colsB)] for _ in range(rowsA)]\n",
    "    \n",
    "    for i in range(rowsA):\n",
    "        for j in range(colsB):\n",
    "            for k in range(colsA):\n",
    "                result[i][j] += A[i][k] * B[k][j]\n",
    "    for row in result:\n",
    "        print(row)\n",
    "        \n",
    "ijk_mm(A,B)"
   ]
  },
  {
   "cell_type": "code",
   "execution_count": 2,
   "id": "a5a406bd",
   "metadata": {},
   "outputs": [
    {
     "name": "stdout",
     "output_type": "stream",
     "text": [
      "[3.2789863344431067, 3.197719172308503, 4.501940041220473, 4.103682317112822, 2.540923063441926, 3.1699204321386567, 3.033124865298663, 3.8514272699100607, 3.4926088856617534, 4.048407177552331, 2.531667868514116, 3.4172382821055454, 3.885632278032662, 2.9058803459872204, 4.288563313999594, 3.6562955652958786]\n",
      "[4.388556114533984, 4.126608600831791, 6.324501210396096, 5.259557272300188, 2.8818016106063395, 4.484362113681337, 2.9730408751051782, 4.381104364659285, 3.464194418352691, 5.775704079955238, 3.4439568025671226, 4.077325383469373, 5.752251744914599, 4.4898000510117395, 4.501944044636601, 5.16211702769922]\n",
      "[4.137360754396588, 3.0413563485993853, 4.626800912451181, 4.248554956143921, 2.549061459504757, 3.5992858883997574, 3.1116295215824716, 3.4354994709205338, 3.6335811854272064, 4.284446353107088, 2.8418173893837197, 3.994928844278367, 4.591000700170287, 3.306962274364077, 3.9106570801998184, 3.5508622180718277]\n",
      "[4.429897660590278, 4.029406823185486, 6.194212126151899, 5.509910226377767, 3.1869909344476124, 5.090770292514965, 3.6639815557986717, 5.075554709079557, 4.0112301997851905, 6.306254797496005, 3.7708342189175266, 3.8752815721174985, 6.269856878467921, 4.2715943970952495, 5.170925575882517, 5.063525941870517]\n",
      "[3.4606130249993083, 3.473566369112584, 4.3019184766021406, 4.236212665608837, 2.475301512993324, 2.6902076933827956, 2.7481857004155796, 3.5952591700280463, 2.2969295940603116, 3.953055909525376, 2.241770317127644, 3.4160992544351068, 4.210156332535362, 3.1217799103377213, 3.4862468612304625, 3.565387657586289]\n",
      "[3.5712367503633597, 3.399083680920418, 5.292452968663948, 4.935759798810895, 2.6800748559306715, 3.7967333023699825, 2.867682482699465, 4.055703466418579, 3.4649719321490813, 4.89105236392611, 2.7590495232183914, 3.074309153959084, 4.758253641506242, 3.8130352748988208, 3.983678070626229, 4.669980766523196]\n",
      "[4.373227769559057, 4.462666863989657, 6.778646902032566, 6.005727158451065, 3.423775191306122, 4.748124698050131, 4.00164145557399, 4.545428106506309, 4.703516831208844, 6.233202073644866, 3.9550546713511117, 4.587191608323171, 6.270331012276118, 4.293631764689836, 5.368511430111978, 5.379909154925244]\n",
      "[3.5355482060285572, 3.2761570292780258, 5.194069849072543, 4.615389643643617, 2.6838045190345334, 3.3920471835838284, 2.9533117355460092, 3.943327292907338, 3.3905752369079316, 4.632627359782083, 2.5826397369124066, 3.296656458001626, 5.0104235252305624, 3.5656972964852134, 4.253873372251301, 3.6648818750324055]\n",
      "[3.689424904485711, 3.3665881375438933, 4.676492329459765, 4.530833153327596, 2.5578711185362346, 4.045641972909751, 3.5956878786245206, 4.041296749589518, 3.665414147747347, 4.552836742231077, 2.6542864696257378, 4.014226151652264, 4.619222887425433, 3.453933250955034, 4.573475934905578, 4.15340871002254]\n",
      "[4.363940628211335, 4.012488270780382, 5.506577773067998, 5.4024631020964105, 3.6649441709856494, 3.687887559171265, 4.074520452476194, 4.244624727963358, 3.9999743611333756, 5.181961072975411, 3.132592595196217, 4.083985178828822, 6.039064513759067, 4.342612733588286, 4.672006900817332, 4.64311473677083]\n",
      "[4.412662765195875, 4.335275450269766, 5.7339315455305755, 4.954935734688755, 2.9349048109578946, 4.278103584038358, 3.7474617170352897, 4.43691096180083, 4.330691199372152, 5.271597143178129, 4.195706867875426, 4.658606704196989, 4.9740362313724855, 3.3280255732731847, 4.669120294661521, 5.0083998758884505]\n",
      "[3.701302999315676, 3.0893012048719473, 5.302810428930585, 4.5975156733475675, 2.9022957633683677, 3.9885133307181477, 2.2519857947475352, 4.287588974480189, 3.3025924230594885, 5.332400242652309, 3.2407846280710517, 2.8173925109113576, 5.044708693032928, 3.7250006277704286, 4.2127489123174815, 3.8128231368328716]\n",
      "[4.271340883990621, 3.9139642186845878, 5.815378514676294, 5.74164757555757, 3.724319700815067, 3.9839499688741147, 3.5510663720464066, 4.409059599482509, 4.03216079311129, 5.3759823768917165, 3.099014527655214, 4.1370590002094465, 5.55186138904478, 4.202924648431846, 4.894825154953815, 4.942385078025774]\n",
      "[3.2471343679632425, 3.535751673415523, 4.831260568348999, 3.984505919436349, 2.3801525732098185, 3.190764897545695, 3.1113355869294765, 4.153178276120837, 2.8487088984999547, 4.576062697897268, 2.515943530927011, 2.97369247322593, 4.507162235008881, 3.497129665264902, 4.2042105868598885, 3.952535571942696]\n",
      "[3.043972377330649, 3.3169238262918554, 4.189050613757407, 4.091942045893492, 2.211374449635092, 2.9590682197441414, 2.8248985774535766, 3.258623561399668, 2.7304119077917397, 3.648497368410023, 2.218192675196489, 3.400834706602267, 3.7135849570743633, 2.9832064747384504, 3.5751728448659117, 3.779935522662478]\n",
      "[3.790975622436838, 3.4508290668859503, 5.531047361813834, 4.6276574877705015, 2.7941213711267445, 4.009809395625751, 3.5556644948315763, 4.045540996088538, 4.2495789569841715, 4.66877203080716, 3.283023444081288, 4.161966784400839, 5.04707680531989, 4.410808246060553, 4.40631851374996, 4.501309804574189]\n",
      "time to execute :  ijk_mm 0.004387855529785156\n"
     ]
    }
   ],
   "source": [
    "import timeit\n",
    "execute_time = []\n",
    "setup = '''\n",
    "matrix_size = 16\n",
    "from __main__ import ijk_mm\n",
    "import numpy as np\n",
    "\n",
    "A = np.random.rand(matrix_size,matrix_size)\n",
    "B = np.random.rand(matrix_size,matrix_size)\n",
    "'''\n",
    "statement = 'ijk_mm(A, B)'\n",
    "\n",
    "execute_time.append(timeit.timeit(statement, setup=setup, number=1))"
   ]
  },
  {
   "cell_type": "code",
   "execution_count": null,
   "id": "27aa0ebd",
   "metadata": {
    "scrolled": true
   },
   "outputs": [
    {
     "name": "stdout",
     "output_type": "stream",
     "text": [
      "[[ 90. 100.]\n",
      " [202. 228.]] [[110. 120.]\n",
      " [254. 280.]] [[314. 356.]\n",
      " [426. 484.]] [[398. 440.]\n",
      " [542. 600.]]\n"
     ]
    },
    {
     "data": {
      "text/plain": [
       "array([[353224., 390560.],\n",
       "       [512008., 565920.]])"
      ]
     },
     "execution_count": 13,
     "metadata": {},
     "output_type": "execute_result"
    }
   ],
   "source": [
    "\n",
    "import numpy as np\n",
    "def block(matrix):\n",
    "    rows, cols = matrix.shape\n",
    "\n",
    "    # Base case, return itself\n",
    "    if rows <= 2 and cols <= 2:\n",
    "        return np.array([matrix])\n",
    "\n",
    "    # Split the matrix into four quadrants\n",
    "    mid_row = rows // 2\n",
    "    mid_col = cols // 2\n",
    "\n",
    "    quadrant1 = matrix[:mid_row, :mid_col]\n",
    "    quadrant2 = matrix[:mid_row, mid_col:]\n",
    "    quadrant3 = matrix[mid_row:, :mid_col]\n",
    "    quadrant4 = matrix[mid_row:, mid_col:]\n",
    "\n",
    "    submatrix = []\n",
    "    submatrix.extend(block(quadrant1))\n",
    "    submatrix.extend(block(quadrant2))\n",
    "    submatrix.extend(block(quadrant3))\n",
    "    submatrix.extend(block(quadrant4))\n",
    "   \n",
    "\n",
    "    return submatrix\n",
    "\n",
    "#ijk loop\n",
    "def ijk_mm(A,B):\n",
    "    #check dimensions for compatibility\n",
    "    rowsA = len(A)\n",
    "    rowsB = len(B)\n",
    "    colsA = len(A[0])\n",
    "    colsB = len(B[0])\n",
    "    if rowsB != colsA:\n",
    "        print(\"dimension error\")\n",
    "\n",
    "    result = np.zeros((rowsA, colsB))\n",
    "    \n",
    "    for i in range(rowsA):\n",
    "        for j in range(colsB):\n",
    "            for k in range(colsA):\n",
    "                result[i][j] += A[i][k] * B[k][j]\n",
    "    return result\n",
    "\n",
    "\n",
    "\n",
    "Z = np.arange(1, 17).reshape(4, 4)\n",
    "Y = np.arange(1, 17).reshape(4, 4)\n",
    "q1, q2, q3, q4 = block(ijk_mm(Z,Y))\n",
    "\n",
    "print(q1,q2,q3,q4)\n",
    "ijk_mm(q1, q2) + ijk_mm(q3, q4)\n",
    "\n"
   ]
  },
  {
   "cell_type": "code",
   "execution_count": null,
   "id": "54d2b6ed",
   "metadata": {},
   "outputs": [],
   "source": []
  },
  {
   "cell_type": "code",
   "execution_count": null,
   "id": "fe1f92ae-ee8a-4ce9-bf4a-8b9099b24186",
   "metadata": {
    "scrolled": true
   },
   "outputs": [
    {
     "name": "stdout",
     "output_type": "stream",
     "text": [
      "[[ 90. 100.]\n",
      " [202. 228.]] [[110. 120.]\n",
      " [254. 280.]] [[314. 356.]\n",
      " [426. 484.]] [[398. 440.]\n",
      " [542. 600.]]\n"
     ]
    },
    {
     "data": {
      "text/plain": [
       "array([[353224., 390560.],\n",
       "       [512008., 565920.]])"
      ]
     },
     "execution_count": 14,
     "metadata": {},
     "output_type": "execute_result"
    }
   ],
   "source": [
    "\n",
    "import numpy as np\n",
    "def block(matrix):\n",
    "    rows, cols = matrix.shape\n",
    "\n",
    "    # Base case, return itself\n",
    "    if rows <= 2 and cols <= 2:\n",
    "        return np.array([matrix])\n",
    "\n",
    "    # Split the matrix into four quadrants\n",
    "    mid_row = rows // 2\n",
    "    mid_col = cols // 2\n",
    "\n",
    "    quadrant1 = matrix[:mid_row, :mid_col]\n",
    "    quadrant2 = matrix[:mid_row, mid_col:]\n",
    "    quadrant3 = matrix[mid_row:, :mid_col]\n",
    "    quadrant4 = matrix[mid_row:, mid_col:]\n",
    "\n",
    "    submatrix = []\n",
    "    submatrix.extend(block(quadrant1))\n",
    "    submatrix.extend(block(quadrant2))\n",
    "    submatrix.extend(block(quadrant3))\n",
    "    submatrix.extend(block(quadrant4))\n",
    "   \n",
    "\n",
    "    return submatrix\n",
    "\n",
    "#ijk loop\n",
    "def ijk_mm(A,B):\n",
    "    #check dimensions for compatibility\n",
    "    rowsA = len(A)\n",
    "    rowsB = len(B)\n",
    "    colsA = len(A[0])\n",
    "    colsB = len(B[0])\n",
    "    if rowsB != colsA:\n",
    "        print(\"dimension error\")\n",
    "\n",
    "    result = np.zeros((rowsA, colsB))\n",
    "    \n",
    "    for i in range(rowsA):\n",
    "        for j in range(colsB):\n",
    "            for k in range(colsA):\n",
    "                result[i][j] += A[i][k] * B[k][j]\n",
    "    return result\n",
    "\n",
    "\n",
    "\n",
    "Z = np.arange(1, 17).reshape(4, 4)\n",
    "Y = np.arange(1, 17).reshape(4, 4)\n",
    "q1, q2, q3, q4 = block(ijk_mm(Z,Y))\n",
    "\n",
    "print(q1,q2,q3,q4)\n",
    "ijk_mm(q1, q2) + ijk_mm(q3, q4)\n",
    "\n"
   ]
  },
  {
   "cell_type": "code",
   "execution_count": 34,
   "id": "f5a7b961-5a44-4da3-a007-1793ba861f97",
   "metadata": {
    "scrolled": true
   },
   "outputs": [
    {
     "name": "stdout",
     "output_type": "stream",
     "text": [
      "[[ 90. 100. 110. 120.]\n",
      " [202. 228. 254. 280.]\n",
      " [314. 356. 398. 440.]\n",
      " [426. 484. 542. 600.]]\n",
      "[[ 1  2  3  4]\n",
      " [ 5  6  7  8]\n",
      " [ 9 10 11 12]\n",
      " [13 14 15 16]]\n",
      "[[ 90. 100. 110. 120.]\n",
      " [202. 228. 254. 280.]\n",
      " [314. 356. 398. 440.]\n",
      " [426. 484. 542. 600.]]\n"
     ]
    }
   ],
   "source": [
    "\n",
    "import numpy as np\n",
    "def block(matrix):\n",
    "    rows, cols = matrix.shape\n",
    "\n",
    "    # Base case, return itself\n",
    "    if rows <= 2 and cols <= 2:\n",
    "        return np.array([matrix])\n",
    "\n",
    "    # Split the matrix into four quadrants\n",
    "    mid_row = rows // 2\n",
    "    mid_col = cols // 2\n",
    "\n",
    "    quadrant1 = matrix[:mid_row, :mid_col]\n",
    "    quadrant2 = matrix[:mid_row, mid_col:]\n",
    "    quadrant3 = matrix[mid_row:, :mid_col]\n",
    "    quadrant4 = matrix[mid_row:, mid_col:]\n",
    "\n",
    "    submatrix = []\n",
    "    submatrix.extend(block(quadrant1))\n",
    "    submatrix.extend(block(quadrant2))\n",
    "    submatrix.extend(block(quadrant3))\n",
    "    submatrix.extend(block(quadrant4))\n",
    "   \n",
    "\n",
    "    return submatrix\n",
    "\n",
    "#ijk loop\n",
    "def ijk_mm(A,B):\n",
    "    #check dimensions for compatibility\n",
    "    rowsA = len(A)\n",
    "    rowsB = len(B)\n",
    "    colsA = len(A[0])\n",
    "    colsB = len(B[0])\n",
    "    if rowsB != colsA:\n",
    "        print(\"dimension error\")\n",
    "\n",
    "    result = np.zeros((rowsA, colsB))\n",
    "    \n",
    "    for i in range(rowsA):\n",
    "        for j in range(colsB):\n",
    "            for k in range(colsA):\n",
    "                result[i][j] += A[i][k] * B[k][j]\n",
    "    return result\n",
    "\n",
    "\n",
    "#TESTING...\n",
    "A = np.arange(1, 17).reshape(4, 4)\n",
    "B = np.arange(1, 17).reshape(4, 4)\n",
    "\n",
    "A_NW, A_NE, A_SW, A_SE = block(A)\n",
    "B_NW, B_NE, B_SW, B_SE = block(B)\n",
    "testme = ijk_mm(A, B)\n",
    "print(testme)\n",
    "\n",
    "def ijk_block(A, B):\n",
    "    A_NW, A_NE, A_SW, A_SE = block(A)\n",
    "    B_NW, B_NE, B_SW, B_SE = block(B)\n",
    "    Result_00 = ijk_mm(A_NW, B_NW) + ijk_mm(A_NE, B_SW)\n",
    "    Result_01 = ijk_mm(A_NW, B_NE) + ijk_mm(A_NE, B_SE)\n",
    "    Result_10 = ijk_mm(A_SW, B_NW) + ijk_mm(A_SE, B_SW)\n",
    "    Result_11 = ijk_mm(A_SW, B_NE) + ijk_mm(A_SE, B_SE)\n",
    "    Result = np.block([[Result_00, Result_01], [Result_10, Result_11]])\n",
    "    return Result\n",
    "    \n",
    "\n",
    "def ans(A_NW, A_NE, A_SW, A_SE, B_NW, B_NE, B_SW, B_SE):\n",
    "\n",
    "    Result_00 = ijk_mm(A_NW, B_NW) + ijk_mm(A_NE, B_SW)\n",
    "    Result_01 = ijk_mm(A_NW, B_NE) + ijk_mm(A_NE, B_SE)\n",
    "    Result_10 = ijk_mm(A_SW, B_NW) + ijk_mm(A_SE, B_SW)\n",
    "    Result_11 = ijk_mm(A_SW, B_NE) + ijk_mm(A_SE, B_SE)\n",
    "    Result = np.block([[Result_00, Result_01], [Result_10, Result_11]])\n",
    "    return Result\n",
    "\n",
    "testme1= ijk_block(A, B) \n",
    "print(A)\n",
    "print(testme1)\n",
    "\n",
    "\n"
   ]
  },
  {
   "cell_type": "code",
   "execution_count": null,
   "id": "7fffcbfb",
   "metadata": {},
   "outputs": [],
   "source": []
  },
  {
   "cell_type": "code",
   "execution_count": null,
   "id": "95ff468b-e5ec-475b-ba5e-c733d3e579c0",
   "metadata": {},
   "outputs": [],
   "source": []
  }
 ],
 "metadata": {
  "kernelspec": {
   "display_name": "Python 3 (ipykernel)",
   "language": "python",
   "name": "python3"
  },
  "language_info": {
   "codemirror_mode": {
    "name": "ipython",
    "version": 3
   },
   "file_extension": ".py",
   "mimetype": "text/x-python",
   "name": "python",
   "nbconvert_exporter": "python",
   "pygments_lexer": "ipython3",
   "version": "3.9.13"
  },
  "vscode": {
   "interpreter": {
    "hash": "5f00346fb2f6f5f1a6b8f889316ab2e4c72ba0690fe5a3a43e996542c4adc3f2"
   }
  }
 },
 "nbformat": 4,
 "nbformat_minor": 5
}
